{
 "cells": [
  {
   "cell_type": "code",
   "execution_count": 2,
   "metadata": {},
   "outputs": [],
   "source": [
    "import h5py\n",
    "import numpy as np\n",
    "from numpy.random import default_rng\n",
    "import os\n",
    "import math\n",
    "from astropy.table import Table, conf, Column\n",
    "import matplotlib.pyplot as plt\n",
    "import seaborn as sns\n",
    "import scipy.stats as stats\n",
    "from scipy.stats import kurtosis, skew, rice, norm\n",
    "import matplotlib.colors as mcolors"
   ]
  },
  {
   "cell_type": "code",
   "execution_count": 5,
   "metadata": {},
   "outputs": [
    {
     "name": "stdout",
     "output_type": "stream",
     "text": [
      "Mean of on_source: 0.054901123046875\n",
      "Mean of off_source: 0.00774383544921875\n",
      "Number of valid rows: 0\n"
     ]
    }
   ],
   "source": [
    "# Open the HDF5 file in read mode\n",
    "\n",
    "with h5py.File(\"ips/timeseries.hdf5\", \"r\") as f:\n",
    "    # Access the datasets\n",
    "    onsource_ts = f[\"on_source\"]\n",
    "    offsource_ts = f[\"off_source\"]\n",
    "    h5_isvalid = f[\"is_valid\"]\n",
    "\n",
    "    # Perform calculations\n",
    "    mean_on_source = np.mean(onsource_ts[0])\n",
    "    mean_off_source = np.mean(offsource_ts[0])\n",
    "    valid_count = np.sum(h5_isvalid)\n",
    "\n",
    "    print(f\"Mean of on_source: {mean_on_source}\")\n",
    "    print(f\"Mean of off_source: {mean_off_source}\")\n",
    "    print(f\"Number of valid rows: {valid_count}\")"
   ]
  },
  {
   "cell_type": "code",
   "execution_count": 9,
   "metadata": {},
   "outputs": [
    {
     "name": "stdout",
     "output_type": "stream",
     "text": [
      "<Closed HDF5 dataset>\n"
     ]
    }
   ],
   "source": [
    "print(onsource_ts)"
   ]
  }
 ],
 "metadata": {
  "kernelspec": {
   "display_name": "environment",
   "language": "python",
   "name": "python3"
  },
  "language_info": {
   "codemirror_mode": {
    "name": "ipython",
    "version": 3
   },
   "file_extension": ".py",
   "mimetype": "text/x-python",
   "name": "python",
   "nbconvert_exporter": "python",
   "pygments_lexer": "ipython3",
   "version": "3.13.0"
  }
 },
 "nbformat": 4,
 "nbformat_minor": 2
}

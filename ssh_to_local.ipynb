{
 "cells": [
  {
   "cell_type": "markdown",
   "metadata": {},
   "source": [
    "### Get IPS time series data from mwa-solar onto Safs Local Machine"
   ]
  },
  {
   "cell_type": "code",
   "execution_count": 28,
   "metadata": {},
   "outputs": [],
   "source": [
    "import numpy as np\n",
    "from numpy.random import default_rng\n",
    "import os\n",
    "import math\n",
    "from astropy.table import Table, conf, Column\n",
    "import matplotlib.pyplot as plt\n",
    "import h5py\n",
    "\n",
    "from tqdm import tqdm\n",
    "import ipywidgets as widgets\n",
    "from IPython.display import display, clear_output\n",
    "import warnings\n",
    "warnings.filterwarnings('ignore')\n",
    "\n",
    "#Data\n",
    "from imstack import ImageStack"
   ]
  },
  {
   "cell_type": "code",
   "execution_count": 29,
   "metadata": {},
   "outputs": [],
   "source": [
    "# Read in Data\n",
    "table = Table.read('bright_cat_pf.fits', format='fits')\n",
    "\n",
    "\n",
    "def find_ts(table_row, imstack):\n",
    "    # Returns the time series for a single observation. Table should be the single row for that observation \n",
    "\n",
    "    ra = table_row['ra_var'] \n",
    "    dec = table_row['dec_var']\n",
    "\n",
    "    x, y = imstack.world2pix(ra, dec)\n",
    "    time_series = imstack.pix2ts(x, y, correct=False)\n",
    "\n",
    "    return time_series \n",
    "\n",
    "\n",
    "\n",
    "def find_offsource_ts(table_row, imstack):\n",
    "    # Returns the time series for a single observation. Table should be the single row for that observation \n",
    "\n",
    "    ra = table_row['ra_var'] \n",
    "    dec = table_row['dec_var']\n",
    "\n",
    "    x, y = imstack.world2pix(ra, dec)\n",
    "    x = x +5 #pixels?\n",
    "    y = y +5 #pixels>\n",
    "    offsource_time_series = imstack.pix2ts(x, y, correct=False)\n",
    "\n",
    "    return offsource_time_series "
   ]
  },
  {
   "cell_type": "code",
   "execution_count": 30,
   "metadata": {},
   "outputs": [
    {
     "data": {
      "text/html": [
       "<div><i>Table length=22573</i>\n",
       "<table id=\"table139772043578512\" class=\"table-striped table-bordered table-condensed\">\n",
       "<thead><tr><th>GLEAM</th><th>RAJ2000</th><th>DEJ2000</th><th>Fp162</th><th>elongation2</th><th>limb</th><th>mpt1</th><th>mpt2</th><th>pbcor</th><th>pbcor_norm</th><th>snr</th><th>snr_2</th><th>snr_scint</th><th>obsid</th><th>snr_cont</th><th>nsi1</th><th>nsi2</th><th>bright_name</th><th>nsi_fit</th><th>s_162</th><th>subset</th><th>source_elevation</th><th>source_azimuth</th><th>obs_elevation</th><th>snr_filt</th><th>elevation_filt</th><th>dir</th><th>uuid_2</th><th>ra_var</th><th>dec_var</th><th>moment2_background</th><th>peak_flux</th></tr></thead>\n",
       "<thead><tr><th></th><th></th><th></th><th></th><th></th><th></th><th></th><th></th><th></th><th></th><th></th><th></th><th></th><th></th><th></th><th></th><th></th><th></th><th></th><th></th><th></th><th>deg</th><th>deg</th><th>deg</th><th></th><th></th><th></th><th></th><th></th><th></th><th></th><th></th></tr></thead>\n",
       "<thead><tr><th>bytes14</th><th>float32</th><th>float32</th><th>float32</th><th>float32</th><th>bytes1</th><th>float32</th><th>float32</th><th>float32</th><th>float32</th><th>float32</th><th>float32</th><th>float32</th><th>int64</th><th>float32</th><th>float32</th><th>float32</th><th>bytes28</th><th>float32</th><th>float32</th><th>bytes5</th><th>float32</th><th>float32</th><th>float32</th><th>bool</th><th>bool</th><th>bytes50</th><th>bytes36</th><th>float32</th><th>float32</th><th>float32</th><th>float32</th></tr></thead>\n",
       "<tr><td>J000106-174125</td><td>0.27705</td><td>-17.690334</td><td>1.2137686</td><td>40.05951</td><td>E</td><td>0.22613288</td><td>0.20075312</td><td>0.4211798</td><td>0.46549094</td><td>38.362244</td><td>14.839206</td><td>14.183964</td><td>1233384720</td><td>223.52196</td><td>0.6738726</td><td>0.75906545</td><td>GLEAM J000106-174125</td><td>0.84610957</td><td>1.2137686</td><td>2019E</td><td>79.43271</td><td>31.576632</td><td>80.348</td><td>False</td><td>False</td><td>/data/ips/dr1p1</td><td>e4d79f98-919c-4d51-9106-c0a44d943ba8</td><td>0.27397075</td><td>-17.691341</td><td>0.07250194</td><td>0.51282907</td></tr>\n",
       "<tr><td>J000106-174125</td><td>0.27705</td><td>-17.690334</td><td>1.2137686</td><td>39.131214</td><td>E</td><td>0.23333263</td><td>0.20566975</td><td>0.47218856</td><td>0.54634964</td><td>42.016983</td><td>20.771927</td><td>21.707634</td><td>1233472808</td><td>267.92947</td><td>0.6655634</td><td>0.7550827</td><td>GLEAM J000106-174125</td><td>0.84610957</td><td>1.2137686</td><td>2019E</td><td>80.64918</td><td>346.64407</td><td>74.6271</td><td>False</td><td>False</td><td>/data/ips/dr1p1</td><td>b3efd872-095c-4b06-a047-9a857f3492c7</td><td>0.27173635</td><td>-17.691729</td><td>0.07023699</td><td>0.60092515</td></tr>\n",
       "<tr><td>J000106-174125</td><td>0.27705</td><td>-17.690334</td><td>1.2137686</td><td>38.225433</td><td>E</td><td>0.24082333</td><td>0.21070458</td><td>0.5443091</td><td>0.61138284</td><td>51.654804</td><td>22.462378</td><td>22.111752</td><td>1233559208</td><td>282.8307</td><td>0.64067906</td><td>0.7322597</td><td>GLEAM J000106-174125</td><td>0.84610957</td><td>1.2137686</td><td>2019E</td><td>80.40455</td><td>341.1296</td><td>74.6271</td><td>False</td><td>False</td><td>/data/ips/dr1p1</td><td>cdf46e7f-a722-4590-952c-b0811146c2aa</td><td>0.27451184</td><td>-17.68874</td><td>0.069683835</td><td>0.63318574</td></tr>\n",
       "<tr><td>J000106-174125</td><td>0.27705</td><td>-17.690334</td><td>1.2137686</td><td>37.324665</td><td>E</td><td>0.24876857</td><td>0.2159569</td><td>0.58938724</td><td>0.6747931</td><td>44.454033</td><td>21.062778</td><td>19.958677</td><td>1233645608</td><td>292.24948</td><td>0.58298266</td><td>0.6715588</td><td>GLEAM J000106-174125</td><td>0.84610957</td><td>1.2137686</td><td>2019E</td><td>80.081894</td><td>335.9199</td><td>74.6271</td><td>False</td><td>False</td><td>/data/ips/dr1p1</td><td>29bfbf92-7149-4f42-9b98-e6ddcba8ffe3</td><td>0.27217227</td><td>-17.692554</td><td>0.06868792</td><td>0.62557113</td></tr>\n",
       "<tr><td>J000106-174125</td><td>0.27705</td><td>-17.690334</td><td>1.2137686</td><td>33.80559</td><td>E</td><td>0.28545693</td><td>0.23908368</td><td>0.32057446</td><td>0.36178568</td><td>32.27803</td><td>9.549107</td><td>9.710536</td><td>1233988640</td><td>157.43408</td><td>0.59529257</td><td>0.71075696</td><td>GLEAM J000106-174125</td><td>0.84610957</td><td>1.2137686</td><td>2019E</td><td>80.58283</td><td>15.075764</td><td>67.9813</td><td>False</td><td>False</td><td>/data/ips/dr1p2</td><td>de3be8e8-60da-40ed-ae20-cb8f4b076066</td><td>0.27259687</td><td>-17.692059</td><td>0.07427959</td><td>0.35386178</td></tr>\n",
       "<tr><td>J000106-174125</td><td>0.27705</td><td>-17.690334</td><td>1.2137686</td><td>33.783356</td><td>E</td><td>0.2857219</td><td>0.23924421</td><td>0.7462893</td><td>0.81491745</td><td>69.9226</td><td>42.013725</td><td>41.05206</td><td>1233990840</td><td>407.475</td><td>0.5745882</td><td>0.6862128</td><td>GLEAM J000106-174125</td><td>0.84610957</td><td>1.2137686</td><td>2019E</td><td>79.013504</td><td>324.70648</td><td>74.6271</td><td>False</td><td>False</td><td>/data/ips/dr1p1</td><td>78cabda7-f59e-4ca9-a415-fb3d6dfb98b0</td><td>0.27109703</td><td>-17.690195</td><td>0.07096795</td><td>0.90061134</td></tr>\n",
       "<tr><td>J000106-174125</td><td>0.27705</td><td>-17.690334</td><td>1.2137686</td><td>26.298372</td><td>E</td><td>0.41097295</td><td>0.30605325</td><td>0.7178301</td><td>0.8544347</td><td>57.3414</td><td>87.89223</td><td>85.05073</td><td>1234768248</td><td>389.04248</td><td>0.7227177</td><td>0.97047627</td><td>GLEAM J000106-174125</td><td>0.84610957</td><td>1.2137686</td><td>2019E</td><td>73.63596</td><td>300.8317</td><td>70.4075</td><td>False</td><td>False</td><td>/data/ips/dr1p2</td><td>505f1fd9-4df6-482f-af51-b663ad3cf5d2</td><td>0.27165732</td><td>-17.689547</td><td>0.07022636</td><td>0.8460366</td></tr>\n",
       "<tr><td>J000106-174125</td><td>0.27705</td><td>-17.690334</td><td>1.2137686</td><td>24.748901</td><td>E</td><td>0.44996828</td><td>0.3236476</td><td>0.45256546</td><td>0.558998</td><td>49.60462</td><td>32.618484</td><td>30.508043</td><td>1234943552</td><td>200.0701</td><td>0.6303456</td><td>0.8763715</td><td>GLEAM J000106-174125</td><td>0.84610957</td><td>1.2137686</td><td>2019E</td><td>63.334553</td><td>284.35602</td><td>64.6934</td><td>False</td><td>False</td><td>/data/ips/dr1p2</td><td>6592bf3d-45bd-4aa9-9a8b-769f91290385</td><td>0.2700725</td><td>-17.688667</td><td>0.08726336</td><td>0.5240144</td></tr>\n",
       "<tr><td>J000106-174125</td><td>0.27705</td><td>-17.690334</td><td>1.2137686</td><td>20.666157</td><td>E</td><td>0.59134984</td><td>0.37766716</td><td>0.45731014</td><td>0.53169763</td><td>50.20188</td><td>53.525345</td><td>49.633568</td><td>1235459264</td><td>249.79173</td><td>0.5371514</td><td>0.84106964</td><td>GLEAM J000106-174125</td><td>0.84610957</td><td>1.2137686</td><td>2019E</td><td>67.87597</td><td>289.82693</td><td>70.4075</td><td>False</td><td>False</td><td>/data/ips/dr1p2</td><td>229f5702-568d-48de-a310-c05f2f1c2106</td><td>0.2704824</td><td>-17.689419</td><td>0.070214316</td><td>0.538048</td></tr>\n",
       "<tr><td>...</td><td>...</td><td>...</td><td>...</td><td>...</td><td>...</td><td>...</td><td>...</td><td>...</td><td>...</td><td>...</td><td>...</td><td>...</td><td>...</td><td>...</td><td>...</td><td>...</td><td>...</td><td>...</td><td>...</td><td>...</td><td>...</td><td>...</td><td>...</td><td>...</td><td>...</td><td>...</td><td>...</td><td>...</td><td>...</td><td>...</td><td>...</td></tr>\n",
       "<tr><td>J235735-211319</td><td>359.39813</td><td>-21.22199</td><td>3.3187973</td><td>29.710115</td><td>W</td><td>0.34348202</td><td>0.25788277</td><td>0.95953834</td><td>0.986165</td><td>174.59561</td><td>104.4335</td><td>106.22488</td><td>1238384984</td><td>668.45233</td><td>0.5794095</td><td>0.77173334</td><td>GLEAM J235735-211319</td><td>0.66980094</td><td>3.3187973</td><td>2019W</td><td>81.800156</td><td>311.5346</td><td>80.348</td><td>False</td><td>False</td><td>/data/ips/dr1p1</td><td>fea89220-caee-4a8b-9fe2-e6048991f142</td><td>359.3935</td><td>-21.22309</td><td>0.12272173</td><td>2.5362406</td></tr>\n",
       "<tr><td>J235735-211319</td><td>359.39813</td><td>-21.22199</td><td>3.3187973</td><td>31.202747</td><td>W</td><td>0.31997207</td><td>0.24709707</td><td>0.7975392</td><td>0.8394536</td><td>150.52925</td><td>98.051674</td><td>93.251236</td><td>1238556792</td><td>843.0927</td><td>0.46641576</td><td>0.6039732</td><td>GLEAM J235735-211319</td><td>0.66980094</td><td>3.3187973</td><td>2019W</td><td>83.11945</td><td>323.33237</td><td>83.1912</td><td>False</td><td>False</td><td>/data/ips/dr1p2</td><td>2088961d-5a22-4ad2-ae6e-81fdec297ca3</td><td>359.3919</td><td>-21.22261</td><td>0.10589421</td><td>2.7522974</td></tr>\n",
       "<tr><td>J235735-211319</td><td>359.39813</td><td>-21.22199</td><td>3.3187973</td><td>40.064327</td><td>W</td><td>0.2260967</td><td>0.19614957</td><td>0.64405096</td><td>0.69214576</td><td>116.09167</td><td>62.232594</td><td>59.6648</td><td>1239505384</td><td>833.3124</td><td>0.4707646</td><td>0.5426386</td><td>GLEAM J235735-211319</td><td>0.66980094</td><td>3.3187973</td><td>2019W</td><td>81.02806</td><td>306.87115</td><td>74.6271</td><td>False</td><td>False</td><td>/data/ips/dr1p2</td><td>086cddc1-5df0-415e-9081-dadbab7097dd</td><td>359.3915</td><td>-21.223068</td><td>0.079982534</td><td>2.0908144</td></tr>\n",
       "<tr><td>J235735-211319</td><td>359.39813</td><td>-21.22199</td><td>3.3187973</td><td>40.868393</td><td>W</td><td>0.22022298</td><td>0.19248098</td><td>0.22036135</td><td>0.26076376</td><td>77.570465</td><td>8.807207</td><td>9.65722</td><td>1239587752</td><td>281.9617</td><td>0.40473706</td><td>0.4630712</td><td>GLEAM J235735-211319</td><td>0.66980094</td><td>3.3187973</td><td>2019W</td><td>80.6745</td><td>54.94113</td><td>67.9813</td><td>False</td><td>False</td><td>/data/ips/dr1p2</td><td>a09300fc-36e2-4876-9b3f-43b43729b84e</td><td>359.3912</td><td>-21.218267</td><td>0.07376848</td><td>0.65858895</td></tr>\n",
       "<tr><td>J235735-211319</td><td>359.39813</td><td>-21.22199</td><td>3.3187973</td><td>41.722595</td><td>W</td><td>0.21432272</td><td>0.18873186</td><td>0.47554934</td><td>0.5381915</td><td>111.74876</td><td>41.602077</td><td>41.765427</td><td>1239674816</td><td>560.6335</td><td>0.54728615</td><td>0.6214947</td><td>GLEAM J235735-211319</td><td>0.66980094</td><td>3.3187973</td><td>2019W</td><td>83.11006</td><td>36.768867</td><td>74.6271</td><td>False</td><td>False</td><td>/data/ips/dr1p2</td><td>25ae09fc-f539-422d-a21b-c927cd47a8b6</td><td>359.39334</td><td>-21.222733</td><td>0.07080035</td><td>1.2627658</td></tr>\n",
       "<tr><td>J235735-211319</td><td>359.39813</td><td>-21.22199</td><td>3.3187973</td><td>42.574364</td><td>W</td><td>0.20876354</td><td>0.1851397</td><td>0.41343156</td><td>0.47187746</td><td>142.28972</td><td>77.873695</td><td>73.73145</td><td>1239761216</td><td>594.5221</td><td>0.8371685</td><td>0.9439913</td><td>GLEAM J235735-211319</td><td>0.66980094</td><td>3.3187973</td><td>2019W</td><td>83.59532</td><td>30.014675</td><td>74.6271</td><td>False</td><td>False</td><td>/data/ips/dr1p2</td><td>4efd3420-fcbb-4636-9b75-33f345b1b1c6</td><td>359.39197</td><td>-21.22159</td><td>0.068823464</td><td>1.2948039</td></tr>\n",
       "<tr><td>J235735-211319</td><td>359.39813</td><td>-21.22199</td><td>3.3187973</td><td>42.60986</td><td>W</td><td>0.20853856</td><td>0.18499309</td><td>0.5066507</td><td>0.5747243</td><td>198.65144</td><td>92.472694</td><td>88.600044</td><td>1239764808</td><td>785.8914</td><td>0.7236384</td><td>0.81574136</td><td>GLEAM J235735-211319</td><td>0.66980094</td><td>3.3187973</td><td>2019W</td><td>78.04022</td><td>295.37717</td><td>74.6271</td><td>False</td><td>False</td><td>/data/ips/dr1p2</td><td>025136ff-1aa4-4629-b365-5283641e5c52</td><td>359.3928</td><td>-21.22242</td><td>0.06858866</td><td>1.6981112</td></tr>\n",
       "<tr><td>J235735-211319</td><td>359.39813</td><td>-21.22199</td><td>3.3187973</td><td>43.41572</td><td>W</td><td>0.20356825</td><td>0.18172929</td><td>0.29102674</td><td>0.34255108</td><td>102.21364</td><td>27.583048</td><td>23.557201</td><td>1239846184</td><td>431.28836</td><td>0.5661942</td><td>0.63423544</td><td>GLEAM J235735-211319</td><td>0.66980094</td><td>3.3187973</td><td>2019W</td><td>80.48908</td><td>55.824833</td><td>67.9813</td><td>False</td><td>False</td><td>/data/ips/dr1p2</td><td>a285424d-f262-4d9c-aa2e-18ff14aa8660</td><td>359.3941</td><td>-21.222612</td><td>0.06918695</td><td>0.9279166</td></tr>\n",
       "<tr><td>J235735-211319</td><td>359.39813</td><td>-21.22199</td><td>3.3187973</td><td>47.77819</td><td>W</td><td>0.18065292</td><td>0.16604784</td><td>0.26770967</td><td>0.29155576</td><td>107.85291</td><td>38.554443</td><td>35.02764</td><td>1240281728</td><td>365.03223</td><td>0.9521013</td><td>1.0358453</td><td>GLEAM J235735-211319</td><td>0.66980094</td><td>3.3187973</td><td>2019W</td><td>78.25753</td><td>295.99887</td><td>76.2838</td><td>False</td><td>False</td><td>/data/ips/dr1p2</td><td>dee95645-0013-45f0-b578-f152c924c74d</td><td>359.3919</td><td>-21.221972</td><td>0.07089316</td><td>0.8186918</td></tr>\n",
       "</table></div>"
      ],
      "text/plain": [
       "<Table length=22573>\n",
       "    GLEAM       RAJ2000   DEJ2000   ...  dec_var   moment2_background peak_flux \n",
       "                                    ...                                         \n",
       "   bytes14      float32   float32   ...  float32        float32        float32  \n",
       "-------------- --------- ---------- ... ---------- ------------------ ----------\n",
       "J000106-174125   0.27705 -17.690334 ... -17.691341         0.07250194 0.51282907\n",
       "J000106-174125   0.27705 -17.690334 ... -17.691729         0.07023699 0.60092515\n",
       "J000106-174125   0.27705 -17.690334 ...  -17.68874        0.069683835 0.63318574\n",
       "J000106-174125   0.27705 -17.690334 ... -17.692554         0.06868792 0.62557113\n",
       "J000106-174125   0.27705 -17.690334 ... -17.692059         0.07427959 0.35386178\n",
       "J000106-174125   0.27705 -17.690334 ... -17.690195         0.07096795 0.90061134\n",
       "J000106-174125   0.27705 -17.690334 ... -17.689547         0.07022636  0.8460366\n",
       "J000106-174125   0.27705 -17.690334 ... -17.688667         0.08726336  0.5240144\n",
       "J000106-174125   0.27705 -17.690334 ... -17.689419        0.070214316   0.538048\n",
       "           ...       ...        ... ...        ...                ...        ...\n",
       "J235735-211319 359.39813  -21.22199 ...  -21.22309         0.12272173  2.5362406\n",
       "J235735-211319 359.39813  -21.22199 ...  -21.22261         0.10589421  2.7522974\n",
       "J235735-211319 359.39813  -21.22199 ... -21.223068        0.079982534  2.0908144\n",
       "J235735-211319 359.39813  -21.22199 ... -21.218267         0.07376848 0.65858895\n",
       "J235735-211319 359.39813  -21.22199 ... -21.222733         0.07080035  1.2627658\n",
       "J235735-211319 359.39813  -21.22199 ...  -21.22159        0.068823464  1.2948039\n",
       "J235735-211319 359.39813  -21.22199 ...  -21.22242         0.06858866  1.6981112\n",
       "J235735-211319 359.39813  -21.22199 ... -21.222612         0.06918695  0.9279166\n",
       "J235735-211319 359.39813  -21.22199 ... -21.221972         0.07089316  0.8186918"
      ]
     },
     "execution_count": 30,
     "metadata": {},
     "output_type": "execute_result"
    }
   ],
   "source": [
    "table "
   ]
  },
  {
   "cell_type": "code",
   "execution_count": null,
   "metadata": {},
   "outputs": [],
   "source": [
    "# table = table[:2]"
   ]
  },
  {
   "cell_type": "code",
   "execution_count": 31,
   "metadata": {},
   "outputs": [
    {
     "name": "stderr",
     "output_type": "stream",
     "text": [
      "19680it [40:47, 17.25it/s]"
     ]
    },
    {
     "name": "stdout",
     "output_type": "stream",
     "text": [
      "Error procession ObsID 1233367016: [Errno 13] Unable to synchronously open file (unable to open file: name = '/data/ips/galcen/1233367016/1233367016.hdf5', errno = 13, error message = 'Permission denied', flags = 0, o_flags = 0)\n",
      "Error procession ObsID 1233369888: [Errno 13] Unable to synchronously open file (unable to open file: name = '/data/ips/galcen/1233369888/1233369888.hdf5', errno = 13, error message = 'Permission denied', flags = 0, o_flags = 0)\n",
      "Error procession ObsID 1233538144: [Errno 13] Unable to synchronously open file (unable to open file: name = '/data/ips/galcen/1233538144/1233538144.hdf5', errno = 13, error message = 'Permission denied', flags = 0, o_flags = 0)\n",
      "Error procession ObsID 1233542696: [Errno 13] Unable to synchronously open file (unable to open file: name = '/data/ips/galcen/1233542696/1233542696.hdf5', errno = 13, error message = 'Permission denied', flags = 0, o_flags = 0)\n",
      "Error procession ObsID 1233624552: [Errno 13] Unable to synchronously open file (unable to open file: name = '/data/ips/galcen/1233624552/1233624552.hdf5', errno = 13, error message = 'Permission denied', flags = 0, o_flags = 0)\n",
      "Error procession ObsID 1233285392: [Errno 13] Unable to synchronously open file (unable to open file: name = '/data/ips/galcen/1233285392/1233285392.hdf5', errno = 13, error message = 'Permission denied', flags = 0, o_flags = 0)\n",
      "Error procession ObsID 1233369888: [Errno 13] Unable to synchronously open file (unable to open file: name = '/data/ips/galcen/1233369888/1233369888.hdf5', errno = 13, error message = 'Permission denied', flags = 0, o_flags = 0)\n",
      "Error procession ObsID 1233542696: [Errno 13] Unable to synchronously open file (unable to open file: name = '/data/ips/galcen/1233542696/1233542696.hdf5', errno = 13, error message = 'Permission denied', flags = 0, o_flags = 0)\n",
      "Error procession ObsID 1233367016: [Errno 13] Unable to synchronously open file (unable to open file: name = '/data/ips/galcen/1233367016/1233367016.hdf5', errno = 13, error message = 'Permission denied', flags = 0, o_flags = 0)\n",
      "Error procession ObsID 1233369888: [Errno 13] Unable to synchronously open file (unable to open file: name = '/data/ips/galcen/1233369888/1233369888.hdf5', errno = 13, error message = 'Permission denied', flags = 0, o_flags = 0)\n",
      "Error procession ObsID 1233538144: [Errno 13] Unable to synchronously open file (unable to open file: name = '/data/ips/galcen/1233538144/1233538144.hdf5', errno = 13, error message = 'Permission denied', flags = 0, o_flags = 0)\n",
      "Error procession ObsID 1233624552: [Errno 13] Unable to synchronously open file (unable to open file: name = '/data/ips/galcen/1233624552/1233624552.hdf5', errno = 13, error message = 'Permission denied', flags = 0, o_flags = 0)\n"
     ]
    },
    {
     "name": "stderr",
     "output_type": "stream",
     "text": [
      "19694it [40:47, 28.62it/s]"
     ]
    },
    {
     "name": "stdout",
     "output_type": "stream",
     "text": [
      "Error procession ObsID 1233367016: [Errno 13] Unable to synchronously open file (unable to open file: name = '/data/ips/galcen/1233367016/1233367016.hdf5', errno = 13, error message = 'Permission denied', flags = 0, o_flags = 0)\n",
      "Error procession ObsID 1233453896: [Errno 13] Unable to synchronously open file (unable to open file: name = '/data/ips/galcen/1233453896/1233453896.hdf5', errno = 13, error message = 'Permission denied', flags = 0, o_flags = 0)\n",
      "Error procession ObsID 1233538144: [Errno 13] Unable to synchronously open file (unable to open file: name = '/data/ips/galcen/1233538144/1233538144.hdf5', errno = 13, error message = 'Permission denied', flags = 0, o_flags = 0)\n",
      "Error procession ObsID 1233540304: [Errno 13] Unable to synchronously open file (unable to open file: name = '/data/ips/galcen/1233540304/1233540304.hdf5', errno = 13, error message = 'Permission denied', flags = 0, o_flags = 0)\n",
      "Error procession ObsID 1233624552: [Errno 13] Unable to synchronously open file (unable to open file: name = '/data/ips/galcen/1233624552/1233624552.hdf5', errno = 13, error message = 'Permission denied', flags = 0, o_flags = 0)\n",
      "Error procession ObsID 1233626704: [Errno 13] Unable to synchronously open file (unable to open file: name = '/data/ips/galcen/1233626704/1233626704.hdf5', errno = 13, error message = 'Permission denied', flags = 0, o_flags = 0)\n"
     ]
    },
    {
     "name": "stderr",
     "output_type": "stream",
     "text": [
      "19702it [40:47, 25.86it/s]"
     ]
    },
    {
     "name": "stdout",
     "output_type": "stream",
     "text": [
      "Error procession ObsID 1233285392: [Errno 13] Unable to synchronously open file (unable to open file: name = '/data/ips/galcen/1233285392/1233285392.hdf5', errno = 13, error message = 'Permission denied', flags = 0, o_flags = 0)\n",
      "Error procession ObsID 1233369888: [Errno 13] Unable to synchronously open file (unable to open file: name = '/data/ips/galcen/1233369888/1233369888.hdf5', errno = 13, error message = 'Permission denied', flags = 0, o_flags = 0)\n",
      "Error procession ObsID 1233542696: [Errno 13] Unable to synchronously open file (unable to open file: name = '/data/ips/galcen/1233542696/1233542696.hdf5', errno = 13, error message = 'Permission denied', flags = 0, o_flags = 0)\n",
      "Error procession ObsID 1233367016: [Errno 13] Unable to synchronously open file (unable to open file: name = '/data/ips/galcen/1233367016/1233367016.hdf5', errno = 13, error message = 'Permission denied', flags = 0, o_flags = 0)\n",
      "Error procession ObsID 1233369888: [Errno 13] Unable to synchronously open file (unable to open file: name = '/data/ips/galcen/1233369888/1233369888.hdf5', errno = 13, error message = 'Permission denied', flags = 0, o_flags = 0)\n",
      "Error procession ObsID 1233538144: [Errno 13] Unable to synchronously open file (unable to open file: name = '/data/ips/galcen/1233538144/1233538144.hdf5', errno = 13, error message = 'Permission denied', flags = 0, o_flags = 0)\n",
      "Error procession ObsID 1233542696: [Errno 13] Unable to synchronously open file (unable to open file: name = '/data/ips/galcen/1233542696/1233542696.hdf5', errno = 13, error message = 'Permission denied', flags = 0, o_flags = 0)\n",
      "Error procession ObsID 1233624552: [Errno 13] Unable to synchronously open file (unable to open file: name = '/data/ips/galcen/1233624552/1233624552.hdf5', errno = 13, error message = 'Permission denied', flags = 0, o_flags = 0)\n"
     ]
    },
    {
     "name": "stderr",
     "output_type": "stream",
     "text": [
      "19713it [40:48, 25.10it/s]"
     ]
    },
    {
     "name": "stdout",
     "output_type": "stream",
     "text": [
      "Error procession ObsID 1233285392: [Errno 13] Unable to synchronously open file (unable to open file: name = '/data/ips/galcen/1233285392/1233285392.hdf5', errno = 13, error message = 'Permission denied', flags = 0, o_flags = 0)\n",
      "Error procession ObsID 1233367016: [Errno 13] Unable to synchronously open file (unable to open file: name = '/data/ips/galcen/1233367016/1233367016.hdf5', errno = 13, error message = 'Permission denied', flags = 0, o_flags = 0)\n",
      "Error procession ObsID 1233369888: [Errno 13] Unable to synchronously open file (unable to open file: name = '/data/ips/galcen/1233369888/1233369888.hdf5', errno = 13, error message = 'Permission denied', flags = 0, o_flags = 0)\n",
      "Error procession ObsID 1233538144: [Errno 13] Unable to synchronously open file (unable to open file: name = '/data/ips/galcen/1233538144/1233538144.hdf5', errno = 13, error message = 'Permission denied', flags = 0, o_flags = 0)\n",
      "Error procession ObsID 1233542696: [Errno 13] Unable to synchronously open file (unable to open file: name = '/data/ips/galcen/1233542696/1233542696.hdf5', errno = 13, error message = 'Permission denied', flags = 0, o_flags = 0)\n",
      "Error procession ObsID 1233624552: [Errno 13] Unable to synchronously open file (unable to open file: name = '/data/ips/galcen/1233624552/1233624552.hdf5', errno = 13, error message = 'Permission denied', flags = 0, o_flags = 0)\n"
     ]
    },
    {
     "name": "stderr",
     "output_type": "stream",
     "text": [
      "19728it [40:50, 11.94it/s]"
     ]
    },
    {
     "name": "stdout",
     "output_type": "stream",
     "text": [
      "Error procession ObsID 1233367016: [Errno 13] Unable to synchronously open file (unable to open file: name = '/data/ips/galcen/1233367016/1233367016.hdf5', errno = 13, error message = 'Permission denied', flags = 0, o_flags = 0)\n",
      "Error procession ObsID 1233538144: [Errno 13] Unable to synchronously open file (unable to open file: name = '/data/ips/galcen/1233538144/1233538144.hdf5', errno = 13, error message = 'Permission denied', flags = 0, o_flags = 0)\n",
      "Error procession ObsID 1233624552: [Errno 13] Unable to synchronously open file (unable to open file: name = '/data/ips/galcen/1233624552/1233624552.hdf5', errno = 13, error message = 'Permission denied', flags = 0, o_flags = 0)\n"
     ]
    },
    {
     "name": "stderr",
     "output_type": "stream",
     "text": [
      "19731it [40:50, 12.58it/s]"
     ]
    },
    {
     "name": "stdout",
     "output_type": "stream",
     "text": [
      "Error procession ObsID 1233367016: [Errno 13] Unable to synchronously open file (unable to open file: name = '/data/ips/galcen/1233367016/1233367016.hdf5', errno = 13, error message = 'Permission denied', flags = 0, o_flags = 0)\n",
      "Error procession ObsID 1233453896: [Errno 13] Unable to synchronously open file (unable to open file: name = '/data/ips/galcen/1233453896/1233453896.hdf5', errno = 13, error message = 'Permission denied', flags = 0, o_flags = 0)\n",
      "Error procession ObsID 1233538144: [Errno 13] Unable to synchronously open file (unable to open file: name = '/data/ips/galcen/1233538144/1233538144.hdf5', errno = 13, error message = 'Permission denied', flags = 0, o_flags = 0)\n",
      "Error procession ObsID 1233540304: [Errno 13] Unable to synchronously open file (unable to open file: name = '/data/ips/galcen/1233540304/1233540304.hdf5', errno = 13, error message = 'Permission denied', flags = 0, o_flags = 0)\n",
      "Error procession ObsID 1233624552: [Errno 13] Unable to synchronously open file (unable to open file: name = '/data/ips/galcen/1233624552/1233624552.hdf5', errno = 13, error message = 'Permission denied', flags = 0, o_flags = 0)\n",
      "Error procession ObsID 1233626704: [Errno 13] Unable to synchronously open file (unable to open file: name = '/data/ips/galcen/1233626704/1233626704.hdf5', errno = 13, error message = 'Permission denied', flags = 0, o_flags = 0)\n"
     ]
    },
    {
     "name": "stderr",
     "output_type": "stream",
     "text": [
      "19746it [40:50, 23.58it/s]"
     ]
    },
    {
     "name": "stdout",
     "output_type": "stream",
     "text": [
      "Error procession ObsID 1233285392: [Errno 13] Unable to synchronously open file (unable to open file: name = '/data/ips/galcen/1233285392/1233285392.hdf5', errno = 13, error message = 'Permission denied', flags = 0, o_flags = 0)\n",
      "Error procession ObsID 1233369888: [Errno 13] Unable to synchronously open file (unable to open file: name = '/data/ips/galcen/1233369888/1233369888.hdf5', errno = 13, error message = 'Permission denied', flags = 0, o_flags = 0)\n",
      "Error procession ObsID 1233542696: [Errno 13] Unable to synchronously open file (unable to open file: name = '/data/ips/galcen/1233542696/1233542696.hdf5', errno = 13, error message = 'Permission denied', flags = 0, o_flags = 0)\n"
     ]
    },
    {
     "name": "stderr",
     "output_type": "stream",
     "text": [
      "19750it [40:50, 25.62it/s]"
     ]
    },
    {
     "name": "stdout",
     "output_type": "stream",
     "text": [
      "Error procession ObsID 1233285392: [Errno 13] Unable to synchronously open file (unable to open file: name = '/data/ips/galcen/1233285392/1233285392.hdf5', errno = 13, error message = 'Permission denied', flags = 0, o_flags = 0)\n",
      "Error procession ObsID 1233369888: [Errno 13] Unable to synchronously open file (unable to open file: name = '/data/ips/galcen/1233369888/1233369888.hdf5', errno = 13, error message = 'Permission denied', flags = 0, o_flags = 0)\n",
      "Error procession ObsID 1233542696: [Errno 13] Unable to synchronously open file (unable to open file: name = '/data/ips/galcen/1233542696/1233542696.hdf5', errno = 13, error message = 'Permission denied', flags = 0, o_flags = 0)\n"
     ]
    },
    {
     "name": "stderr",
     "output_type": "stream",
     "text": [
      "19762it [40:51, 22.53it/s]"
     ]
    },
    {
     "name": "stdout",
     "output_type": "stream",
     "text": [
      "Error procession ObsID 1233367016: [Errno 13] Unable to synchronously open file (unable to open file: name = '/data/ips/galcen/1233367016/1233367016.hdf5', errno = 13, error message = 'Permission denied', flags = 0, o_flags = 0)\n",
      "Error procession ObsID 1233369888: [Errno 13] Unable to synchronously open file (unable to open file: name = '/data/ips/galcen/1233369888/1233369888.hdf5', errno = 13, error message = 'Permission denied', flags = 0, o_flags = 0)\n",
      "Error procession ObsID 1233453896: [Errno 13] Unable to synchronously open file (unable to open file: name = '/data/ips/galcen/1233453896/1233453896.hdf5', errno = 13, error message = 'Permission denied', flags = 0, o_flags = 0)\n",
      "Error procession ObsID 1233538144: [Errno 13] Unable to synchronously open file (unable to open file: name = '/data/ips/galcen/1233538144/1233538144.hdf5', errno = 13, error message = 'Permission denied', flags = 0, o_flags = 0)\n",
      "Error procession ObsID 1233540304: [Errno 13] Unable to synchronously open file (unable to open file: name = '/data/ips/galcen/1233540304/1233540304.hdf5', errno = 13, error message = 'Permission denied', flags = 0, o_flags = 0)\n",
      "Error procession ObsID 1233542696: [Errno 13] Unable to synchronously open file (unable to open file: name = '/data/ips/galcen/1233542696/1233542696.hdf5', errno = 13, error message = 'Permission denied', flags = 0, o_flags = 0)\n",
      "Error procession ObsID 1233624552: [Errno 13] Unable to synchronously open file (unable to open file: name = '/data/ips/galcen/1233624552/1233624552.hdf5', errno = 13, error message = 'Permission denied', flags = 0, o_flags = 0)\n",
      "Error procession ObsID 1233626704: [Errno 13] Unable to synchronously open file (unable to open file: name = '/data/ips/galcen/1233626704/1233626704.hdf5', errno = 13, error message = 'Permission denied', flags = 0, o_flags = 0)\n"
     ]
    },
    {
     "name": "stderr",
     "output_type": "stream",
     "text": [
      "19771it [40:51, 24.11it/s]"
     ]
    },
    {
     "name": "stdout",
     "output_type": "stream",
     "text": [
      "Error procession ObsID 1233453896: [Errno 13] Unable to synchronously open file (unable to open file: name = '/data/ips/galcen/1233453896/1233453896.hdf5', errno = 13, error message = 'Permission denied', flags = 0, o_flags = 0)\n",
      "Error procession ObsID 1233540304: [Errno 13] Unable to synchronously open file (unable to open file: name = '/data/ips/galcen/1233540304/1233540304.hdf5', errno = 13, error message = 'Permission denied', flags = 0, o_flags = 0)\n",
      "Error procession ObsID 1233626704: [Errno 13] Unable to synchronously open file (unable to open file: name = '/data/ips/galcen/1233626704/1233626704.hdf5', errno = 13, error message = 'Permission denied', flags = 0, o_flags = 0)\n",
      "Error procession ObsID 1233285392: [Errno 13] Unable to synchronously open file (unable to open file: name = '/data/ips/galcen/1233285392/1233285392.hdf5', errno = 13, error message = 'Permission denied', flags = 0, o_flags = 0)\n",
      "Error procession ObsID 1233369888: [Errno 13] Unable to synchronously open file (unable to open file: name = '/data/ips/galcen/1233369888/1233369888.hdf5', errno = 13, error message = 'Permission denied', flags = 0, o_flags = 0)\n",
      "Error procession ObsID 1233542696: [Errno 13] Unable to synchronously open file (unable to open file: name = '/data/ips/galcen/1233542696/1233542696.hdf5', errno = 13, error message = 'Permission denied', flags = 0, o_flags = 0)\n"
     ]
    },
    {
     "name": "stderr",
     "output_type": "stream",
     "text": [
      "19784it [40:52, 22.79it/s]"
     ]
    },
    {
     "name": "stdout",
     "output_type": "stream",
     "text": [
      "Error procession ObsID 1233285392: [Errno 13] Unable to synchronously open file (unable to open file: name = '/data/ips/galcen/1233285392/1233285392.hdf5', errno = 13, error message = 'Permission denied', flags = 0, o_flags = 0)\n",
      "Error procession ObsID 1233369888: [Errno 13] Unable to synchronously open file (unable to open file: name = '/data/ips/galcen/1233369888/1233369888.hdf5', errno = 13, error message = 'Permission denied', flags = 0, o_flags = 0)\n",
      "Error procession ObsID 1233542696: [Errno 13] Unable to synchronously open file (unable to open file: name = '/data/ips/galcen/1233542696/1233542696.hdf5', errno = 13, error message = 'Permission denied', flags = 0, o_flags = 0)\n",
      "Error procession ObsID 1233453896: [Errno 13] Unable to synchronously open file (unable to open file: name = '/data/ips/galcen/1233453896/1233453896.hdf5', errno = 13, error message = 'Permission denied', flags = 0, o_flags = 0)\n",
      "Error procession ObsID 1233540304: [Errno 13] Unable to synchronously open file (unable to open file: name = '/data/ips/galcen/1233540304/1233540304.hdf5', errno = 13, error message = 'Permission denied', flags = 0, o_flags = 0)\n",
      "Error procession ObsID 1233626704: [Errno 13] Unable to synchronously open file (unable to open file: name = '/data/ips/galcen/1233626704/1233626704.hdf5', errno = 13, error message = 'Permission denied', flags = 0, o_flags = 0)\n"
     ]
    },
    {
     "name": "stderr",
     "output_type": "stream",
     "text": [
      "19794it [40:52, 25.69it/s]"
     ]
    },
    {
     "name": "stdout",
     "output_type": "stream",
     "text": [
      "Error procession ObsID 1233285392: [Errno 13] Unable to synchronously open file (unable to open file: name = '/data/ips/galcen/1233285392/1233285392.hdf5', errno = 13, error message = 'Permission denied', flags = 0, o_flags = 0)\n",
      "Error procession ObsID 1233367016: [Errno 13] Unable to synchronously open file (unable to open file: name = '/data/ips/galcen/1233367016/1233367016.hdf5', errno = 13, error message = 'Permission denied', flags = 0, o_flags = 0)\n",
      "Error procession ObsID 1233369888: [Errno 13] Unable to synchronously open file (unable to open file: name = '/data/ips/galcen/1233369888/1233369888.hdf5', errno = 13, error message = 'Permission denied', flags = 0, o_flags = 0)\n",
      "Error procession ObsID 1233538144: [Errno 13] Unable to synchronously open file (unable to open file: name = '/data/ips/galcen/1233538144/1233538144.hdf5', errno = 13, error message = 'Permission denied', flags = 0, o_flags = 0)\n",
      "Error procession ObsID 1233542696: [Errno 13] Unable to synchronously open file (unable to open file: name = '/data/ips/galcen/1233542696/1233542696.hdf5', errno = 13, error message = 'Permission denied', flags = 0, o_flags = 0)\n",
      "Error procession ObsID 1233624552: [Errno 13] Unable to synchronously open file (unable to open file: name = '/data/ips/galcen/1233624552/1233624552.hdf5', errno = 13, error message = 'Permission denied', flags = 0, o_flags = 0)\n"
     ]
    },
    {
     "name": "stderr",
     "output_type": "stream",
     "text": [
      "19813it [40:53, 20.45it/s]"
     ]
    },
    {
     "name": "stdout",
     "output_type": "stream",
     "text": [
      "Error procession ObsID 1233285392: [Errno 13] Unable to synchronously open file (unable to open file: name = '/data/ips/galcen/1233285392/1233285392.hdf5', errno = 13, error message = 'Permission denied', flags = 0, o_flags = 0)\n",
      "Error procession ObsID 1233367016: [Errno 13] Unable to synchronously open file (unable to open file: name = '/data/ips/galcen/1233367016/1233367016.hdf5', errno = 13, error message = 'Permission denied', flags = 0, o_flags = 0)\n",
      "Error procession ObsID 1233369888: [Errno 13] Unable to synchronously open file (unable to open file: name = '/data/ips/galcen/1233369888/1233369888.hdf5', errno = 13, error message = 'Permission denied', flags = 0, o_flags = 0)\n",
      "Error procession ObsID 1233538144: [Errno 13] Unable to synchronously open file (unable to open file: name = '/data/ips/galcen/1233538144/1233538144.hdf5', errno = 13, error message = 'Permission denied', flags = 0, o_flags = 0)\n",
      "Error procession ObsID 1233542696: [Errno 13] Unable to synchronously open file (unable to open file: name = '/data/ips/galcen/1233542696/1233542696.hdf5', errno = 13, error message = 'Permission denied', flags = 0, o_flags = 0)\n",
      "Error procession ObsID 1233624552: [Errno 13] Unable to synchronously open file (unable to open file: name = '/data/ips/galcen/1233624552/1233624552.hdf5', errno = 13, error message = 'Permission denied', flags = 0, o_flags = 0)\n"
     ]
    },
    {
     "name": "stderr",
     "output_type": "stream",
     "text": [
      "19825it [40:54, 22.17it/s]"
     ]
    },
    {
     "name": "stdout",
     "output_type": "stream",
     "text": [
      "Error procession ObsID 1233285392: [Errno 13] Unable to synchronously open file (unable to open file: name = '/data/ips/galcen/1233285392/1233285392.hdf5', errno = 13, error message = 'Permission denied', flags = 0, o_flags = 0)\n",
      "Error procession ObsID 1233367016: [Errno 13] Unable to synchronously open file (unable to open file: name = '/data/ips/galcen/1233367016/1233367016.hdf5', errno = 13, error message = 'Permission denied', flags = 0, o_flags = 0)\n",
      "Error procession ObsID 1233369888: [Errno 13] Unable to synchronously open file (unable to open file: name = '/data/ips/galcen/1233369888/1233369888.hdf5', errno = 13, error message = 'Permission denied', flags = 0, o_flags = 0)\n",
      "Error procession ObsID 1233538144: [Errno 13] Unable to synchronously open file (unable to open file: name = '/data/ips/galcen/1233538144/1233538144.hdf5', errno = 13, error message = 'Permission denied', flags = 0, o_flags = 0)\n",
      "Error procession ObsID 1233542696: [Errno 13] Unable to synchronously open file (unable to open file: name = '/data/ips/galcen/1233542696/1233542696.hdf5', errno = 13, error message = 'Permission denied', flags = 0, o_flags = 0)\n",
      "Error procession ObsID 1233624552: [Errno 13] Unable to synchronously open file (unable to open file: name = '/data/ips/galcen/1233624552/1233624552.hdf5', errno = 13, error message = 'Permission denied', flags = 0, o_flags = 0)\n"
     ]
    },
    {
     "name": "stderr",
     "output_type": "stream",
     "text": [
      "19837it [40:55, 21.01it/s]"
     ]
    },
    {
     "name": "stdout",
     "output_type": "stream",
     "text": [
      "Error procession ObsID 1233453896: [Errno 13] Unable to synchronously open file (unable to open file: name = '/data/ips/galcen/1233453896/1233453896.hdf5', errno = 13, error message = 'Permission denied', flags = 0, o_flags = 0)\n",
      "Error procession ObsID 1233540304: [Errno 13] Unable to synchronously open file (unable to open file: name = '/data/ips/galcen/1233540304/1233540304.hdf5', errno = 13, error message = 'Permission denied', flags = 0, o_flags = 0)\n",
      "Error procession ObsID 1233626704: [Errno 13] Unable to synchronously open file (unable to open file: name = '/data/ips/galcen/1233626704/1233626704.hdf5', errno = 13, error message = 'Permission denied', flags = 0, o_flags = 0)\n"
     ]
    },
    {
     "name": "stderr",
     "output_type": "stream",
     "text": [
      "19849it [40:55, 24.90it/s]"
     ]
    },
    {
     "name": "stdout",
     "output_type": "stream",
     "text": [
      "Error procession ObsID 1233367016: [Errno 13] Unable to synchronously open file (unable to open file: name = '/data/ips/galcen/1233367016/1233367016.hdf5', errno = 13, error message = 'Permission denied', flags = 0, o_flags = 0)\n",
      "Error procession ObsID 1233369888: [Errno 13] Unable to synchronously open file (unable to open file: name = '/data/ips/galcen/1233369888/1233369888.hdf5', errno = 13, error message = 'Permission denied', flags = 0, o_flags = 0)\n",
      "Error procession ObsID 1233538144: [Errno 13] Unable to synchronously open file (unable to open file: name = '/data/ips/galcen/1233538144/1233538144.hdf5', errno = 13, error message = 'Permission denied', flags = 0, o_flags = 0)\n",
      "Error procession ObsID 1233542696: [Errno 13] Unable to synchronously open file (unable to open file: name = '/data/ips/galcen/1233542696/1233542696.hdf5', errno = 13, error message = 'Permission denied', flags = 0, o_flags = 0)\n",
      "Error procession ObsID 1233624552: [Errno 13] Unable to synchronously open file (unable to open file: name = '/data/ips/galcen/1233624552/1233624552.hdf5', errno = 13, error message = 'Permission denied', flags = 0, o_flags = 0)\n"
     ]
    },
    {
     "name": "stderr",
     "output_type": "stream",
     "text": [
      "19859it [40:56, 23.92it/s]"
     ]
    },
    {
     "name": "stdout",
     "output_type": "stream",
     "text": [
      "Error procession ObsID 1233453896: [Errno 13] Unable to synchronously open file (unable to open file: name = '/data/ips/galcen/1233453896/1233453896.hdf5', errno = 13, error message = 'Permission denied', flags = 0, o_flags = 0)\n",
      "Error procession ObsID 1233540304: [Errno 13] Unable to synchronously open file (unable to open file: name = '/data/ips/galcen/1233540304/1233540304.hdf5', errno = 13, error message = 'Permission denied', flags = 0, o_flags = 0)\n",
      "Error procession ObsID 1233626704: [Errno 13] Unable to synchronously open file (unable to open file: name = '/data/ips/galcen/1233626704/1233626704.hdf5', errno = 13, error message = 'Permission denied', flags = 0, o_flags = 0)\n"
     ]
    },
    {
     "name": "stderr",
     "output_type": "stream",
     "text": [
      "19867it [40:56, 15.58it/s]"
     ]
    },
    {
     "name": "stdout",
     "output_type": "stream",
     "text": [
      "Error procession ObsID 1233285392: [Errno 13] Unable to synchronously open file (unable to open file: name = '/data/ips/galcen/1233285392/1233285392.hdf5', errno = 13, error message = 'Permission denied', flags = 0, o_flags = 0)\n",
      "Error procession ObsID 1233369888: [Errno 13] Unable to synchronously open file (unable to open file: name = '/data/ips/galcen/1233369888/1233369888.hdf5', errno = 13, error message = 'Permission denied', flags = 0, o_flags = 0)\n",
      "Error procession ObsID 1233542696: [Errno 13] Unable to synchronously open file (unable to open file: name = '/data/ips/galcen/1233542696/1233542696.hdf5', errno = 13, error message = 'Permission denied', flags = 0, o_flags = 0)\n"
     ]
    },
    {
     "name": "stderr",
     "output_type": "stream",
     "text": [
      "19869it [40:56, 14.00it/s]"
     ]
    },
    {
     "name": "stdout",
     "output_type": "stream",
     "text": [
      "Error procession ObsID 1233367016: [Errno 13] Unable to synchronously open file (unable to open file: name = '/data/ips/galcen/1233367016/1233367016.hdf5', errno = 13, error message = 'Permission denied', flags = 0, o_flags = 0)\n",
      "Error procession ObsID 1233369888: [Errno 13] Unable to synchronously open file (unable to open file: name = '/data/ips/galcen/1233369888/1233369888.hdf5', errno = 13, error message = 'Permission denied', flags = 0, o_flags = 0)\n",
      "Error procession ObsID 1233453896: [Errno 13] Unable to synchronously open file (unable to open file: name = '/data/ips/galcen/1233453896/1233453896.hdf5', errno = 13, error message = 'Permission denied', flags = 0, o_flags = 0)\n",
      "Error procession ObsID 1233538144: [Errno 13] Unable to synchronously open file (unable to open file: name = '/data/ips/galcen/1233538144/1233538144.hdf5', errno = 13, error message = 'Permission denied', flags = 0, o_flags = 0)\n",
      "Error procession ObsID 1233540304: [Errno 13] Unable to synchronously open file (unable to open file: name = '/data/ips/galcen/1233540304/1233540304.hdf5', errno = 13, error message = 'Permission denied', flags = 0, o_flags = 0)\n",
      "Error procession ObsID 1233542696: [Errno 13] Unable to synchronously open file (unable to open file: name = '/data/ips/galcen/1233542696/1233542696.hdf5', errno = 13, error message = 'Permission denied', flags = 0, o_flags = 0)\n",
      "Error procession ObsID 1233624552: [Errno 13] Unable to synchronously open file (unable to open file: name = '/data/ips/galcen/1233624552/1233624552.hdf5', errno = 13, error message = 'Permission denied', flags = 0, o_flags = 0)\n",
      "Error procession ObsID 1233626704: [Errno 13] Unable to synchronously open file (unable to open file: name = '/data/ips/galcen/1233626704/1233626704.hdf5', errno = 13, error message = 'Permission denied', flags = 0, o_flags = 0)\n"
     ]
    },
    {
     "name": "stderr",
     "output_type": "stream",
     "text": [
      "19894it [40:57, 28.87it/s]"
     ]
    },
    {
     "name": "stdout",
     "output_type": "stream",
     "text": [
      "Error procession ObsID 1233367016: [Errno 13] Unable to synchronously open file (unable to open file: name = '/data/ips/galcen/1233367016/1233367016.hdf5', errno = 13, error message = 'Permission denied', flags = 0, o_flags = 0)\n",
      "Error procession ObsID 1233453896: [Errno 13] Unable to synchronously open file (unable to open file: name = '/data/ips/galcen/1233453896/1233453896.hdf5', errno = 13, error message = 'Permission denied', flags = 0, o_flags = 0)\n",
      "Error procession ObsID 1233538144: [Errno 13] Unable to synchronously open file (unable to open file: name = '/data/ips/galcen/1233538144/1233538144.hdf5', errno = 13, error message = 'Permission denied', flags = 0, o_flags = 0)\n",
      "Error procession ObsID 1233540304: [Errno 13] Unable to synchronously open file (unable to open file: name = '/data/ips/galcen/1233540304/1233540304.hdf5', errno = 13, error message = 'Permission denied', flags = 0, o_flags = 0)\n",
      "Error procession ObsID 1233624552: [Errno 13] Unable to synchronously open file (unable to open file: name = '/data/ips/galcen/1233624552/1233624552.hdf5', errno = 13, error message = 'Permission denied', flags = 0, o_flags = 0)\n",
      "Error procession ObsID 1233626704: [Errno 13] Unable to synchronously open file (unable to open file: name = '/data/ips/galcen/1233626704/1233626704.hdf5', errno = 13, error message = 'Permission denied', flags = 0, o_flags = 0)\n"
     ]
    },
    {
     "name": "stderr",
     "output_type": "stream",
     "text": [
      "19906it [40:58, 25.47it/s]"
     ]
    },
    {
     "name": "stdout",
     "output_type": "stream",
     "text": [
      "Error procession ObsID 1233367016: [Errno 13] Unable to synchronously open file (unable to open file: name = '/data/ips/galcen/1233367016/1233367016.hdf5', errno = 13, error message = 'Permission denied', flags = 0, o_flags = 0)\n",
      "Error procession ObsID 1233369888: [Errno 13] Unable to synchronously open file (unable to open file: name = '/data/ips/galcen/1233369888/1233369888.hdf5', errno = 13, error message = 'Permission denied', flags = 0, o_flags = 0)\n",
      "Error procession ObsID 1233538144: [Errno 13] Unable to synchronously open file (unable to open file: name = '/data/ips/galcen/1233538144/1233538144.hdf5', errno = 13, error message = 'Permission denied', flags = 0, o_flags = 0)\n",
      "Error procession ObsID 1233542696: [Errno 13] Unable to synchronously open file (unable to open file: name = '/data/ips/galcen/1233542696/1233542696.hdf5', errno = 13, error message = 'Permission denied', flags = 0, o_flags = 0)\n",
      "Error procession ObsID 1233624552: [Errno 13] Unable to synchronously open file (unable to open file: name = '/data/ips/galcen/1233624552/1233624552.hdf5', errno = 13, error message = 'Permission denied', flags = 0, o_flags = 0)\n"
     ]
    },
    {
     "name": "stderr",
     "output_type": "stream",
     "text": [
      "19923it [40:59, 30.34it/s]"
     ]
    },
    {
     "name": "stdout",
     "output_type": "stream",
     "text": [
      "Error procession ObsID 1233367016: [Errno 13] Unable to synchronously open file (unable to open file: name = '/data/ips/galcen/1233367016/1233367016.hdf5', errno = 13, error message = 'Permission denied', flags = 0, o_flags = 0)\n",
      "Error procession ObsID 1233369888: [Errno 13] Unable to synchronously open file (unable to open file: name = '/data/ips/galcen/1233369888/1233369888.hdf5', errno = 13, error message = 'Permission denied', flags = 0, o_flags = 0)\n",
      "Error procession ObsID 1233538144: [Errno 13] Unable to synchronously open file (unable to open file: name = '/data/ips/galcen/1233538144/1233538144.hdf5', errno = 13, error message = 'Permission denied', flags = 0, o_flags = 0)\n",
      "Error procession ObsID 1233540304: [Errno 13] Unable to synchronously open file (unable to open file: name = '/data/ips/galcen/1233540304/1233540304.hdf5', errno = 13, error message = 'Permission denied', flags = 0, o_flags = 0)\n",
      "Error procession ObsID 1233542696: [Errno 13] Unable to synchronously open file (unable to open file: name = '/data/ips/galcen/1233542696/1233542696.hdf5', errno = 13, error message = 'Permission denied', flags = 0, o_flags = 0)\n",
      "Error procession ObsID 1233624552: [Errno 13] Unable to synchronously open file (unable to open file: name = '/data/ips/galcen/1233624552/1233624552.hdf5', errno = 13, error message = 'Permission denied', flags = 0, o_flags = 0)\n",
      "Error procession ObsID 1233626704: [Errno 13] Unable to synchronously open file (unable to open file: name = '/data/ips/galcen/1233626704/1233626704.hdf5', errno = 13, error message = 'Permission denied', flags = 0, o_flags = 0)\n"
     ]
    },
    {
     "name": "stderr",
     "output_type": "stream",
     "text": [
      "19942it [40:59, 38.26it/s]"
     ]
    },
    {
     "name": "stdout",
     "output_type": "stream",
     "text": [
      "Error procession ObsID 1233285392: [Errno 13] Unable to synchronously open file (unable to open file: name = '/data/ips/galcen/1233285392/1233285392.hdf5', errno = 13, error message = 'Permission denied', flags = 0, o_flags = 0)\n",
      "Error procession ObsID 1233369888: [Errno 13] Unable to synchronously open file (unable to open file: name = '/data/ips/galcen/1233369888/1233369888.hdf5', errno = 13, error message = 'Permission denied', flags = 0, o_flags = 0)\n",
      "Error procession ObsID 1233542696: [Errno 13] Unable to synchronously open file (unable to open file: name = '/data/ips/galcen/1233542696/1233542696.hdf5', errno = 13, error message = 'Permission denied', flags = 0, o_flags = 0)\n",
      "Error procession ObsID 1233367016: [Errno 13] Unable to synchronously open file (unable to open file: name = '/data/ips/galcen/1233367016/1233367016.hdf5', errno = 13, error message = 'Permission denied', flags = 0, o_flags = 0)\n",
      "Error procession ObsID 1233453896: [Errno 13] Unable to synchronously open file (unable to open file: name = '/data/ips/galcen/1233453896/1233453896.hdf5', errno = 13, error message = 'Permission denied', flags = 0, o_flags = 0)\n",
      "Error procession ObsID 1233538144: [Errno 13] Unable to synchronously open file (unable to open file: name = '/data/ips/galcen/1233538144/1233538144.hdf5', errno = 13, error message = 'Permission denied', flags = 0, o_flags = 0)\n",
      "Error procession ObsID 1233540304: [Errno 13] Unable to synchronously open file (unable to open file: name = '/data/ips/galcen/1233540304/1233540304.hdf5', errno = 13, error message = 'Permission denied', flags = 0, o_flags = 0)\n",
      "Error procession ObsID 1233624552: [Errno 13] Unable to synchronously open file (unable to open file: name = '/data/ips/galcen/1233624552/1233624552.hdf5', errno = 13, error message = 'Permission denied', flags = 0, o_flags = 0)\n",
      "Error procession ObsID 1233626704: [Errno 13] Unable to synchronously open file (unable to open file: name = '/data/ips/galcen/1233626704/1233626704.hdf5', errno = 13, error message = 'Permission denied', flags = 0, o_flags = 0)\n"
     ]
    },
    {
     "name": "stderr",
     "output_type": "stream",
     "text": [
      "19957it [41:00, 28.91it/s]"
     ]
    },
    {
     "name": "stdout",
     "output_type": "stream",
     "text": [
      "Error procession ObsID 1233367016: [Errno 13] Unable to synchronously open file (unable to open file: name = '/data/ips/galcen/1233367016/1233367016.hdf5', errno = 13, error message = 'Permission denied', flags = 0, o_flags = 0)\n",
      "Error procession ObsID 1233453896: [Errno 13] Unable to synchronously open file (unable to open file: name = '/data/ips/galcen/1233453896/1233453896.hdf5', errno = 13, error message = 'Permission denied', flags = 0, o_flags = 0)\n",
      "Error procession ObsID 1233538144: [Errno 13] Unable to synchronously open file (unable to open file: name = '/data/ips/galcen/1233538144/1233538144.hdf5', errno = 13, error message = 'Permission denied', flags = 0, o_flags = 0)\n",
      "Error procession ObsID 1233540304: [Errno 13] Unable to synchronously open file (unable to open file: name = '/data/ips/galcen/1233540304/1233540304.hdf5', errno = 13, error message = 'Permission denied', flags = 0, o_flags = 0)\n",
      "Error procession ObsID 1233624552: [Errno 13] Unable to synchronously open file (unable to open file: name = '/data/ips/galcen/1233624552/1233624552.hdf5', errno = 13, error message = 'Permission denied', flags = 0, o_flags = 0)\n",
      "Error procession ObsID 1233626704: [Errno 13] Unable to synchronously open file (unable to open file: name = '/data/ips/galcen/1233626704/1233626704.hdf5', errno = 13, error message = 'Permission denied', flags = 0, o_flags = 0)\n"
     ]
    },
    {
     "name": "stderr",
     "output_type": "stream",
     "text": [
      "19978it [41:01, 27.15it/s]"
     ]
    },
    {
     "name": "stdout",
     "output_type": "stream",
     "text": [
      "Error procession ObsID 1233367016: [Errno 13] Unable to synchronously open file (unable to open file: name = '/data/ips/galcen/1233367016/1233367016.hdf5', errno = 13, error message = 'Permission denied', flags = 0, o_flags = 0)\n",
      "Error procession ObsID 1233369888: [Errno 13] Unable to synchronously open file (unable to open file: name = '/data/ips/galcen/1233369888/1233369888.hdf5', errno = 13, error message = 'Permission denied', flags = 0, o_flags = 0)\n",
      "Error procession ObsID 1233453896: [Errno 13] Unable to synchronously open file (unable to open file: name = '/data/ips/galcen/1233453896/1233453896.hdf5', errno = 13, error message = 'Permission denied', flags = 0, o_flags = 0)\n",
      "Error procession ObsID 1233538144: [Errno 13] Unable to synchronously open file (unable to open file: name = '/data/ips/galcen/1233538144/1233538144.hdf5', errno = 13, error message = 'Permission denied', flags = 0, o_flags = 0)\n",
      "Error procession ObsID 1233540304: [Errno 13] Unable to synchronously open file (unable to open file: name = '/data/ips/galcen/1233540304/1233540304.hdf5', errno = 13, error message = 'Permission denied', flags = 0, o_flags = 0)\n",
      "Error procession ObsID 1233542696: [Errno 13] Unable to synchronously open file (unable to open file: name = '/data/ips/galcen/1233542696/1233542696.hdf5', errno = 13, error message = 'Permission denied', flags = 0, o_flags = 0)\n",
      "Error procession ObsID 1233624552: [Errno 13] Unable to synchronously open file (unable to open file: name = '/data/ips/galcen/1233624552/1233624552.hdf5', errno = 13, error message = 'Permission denied', flags = 0, o_flags = 0)\n",
      "Error procession ObsID 1233626704: [Errno 13] Unable to synchronously open file (unable to open file: name = '/data/ips/galcen/1233626704/1233626704.hdf5', errno = 13, error message = 'Permission denied', flags = 0, o_flags = 0)\n"
     ]
    },
    {
     "name": "stderr",
     "output_type": "stream",
     "text": [
      "19994it [41:02, 23.40it/s]"
     ]
    },
    {
     "name": "stdout",
     "output_type": "stream",
     "text": [
      "Error procession ObsID 1233367016: [Errno 13] Unable to synchronously open file (unable to open file: name = '/data/ips/galcen/1233367016/1233367016.hdf5', errno = 13, error message = 'Permission denied', flags = 0, o_flags = 0)\n",
      "Error procession ObsID 1233369888: [Errno 13] Unable to synchronously open file (unable to open file: name = '/data/ips/galcen/1233369888/1233369888.hdf5', errno = 13, error message = 'Permission denied', flags = 0, o_flags = 0)\n",
      "Error procession ObsID 1233538144: [Errno 13] Unable to synchronously open file (unable to open file: name = '/data/ips/galcen/1233538144/1233538144.hdf5', errno = 13, error message = 'Permission denied', flags = 0, o_flags = 0)\n",
      "Error procession ObsID 1233542696: [Errno 13] Unable to synchronously open file (unable to open file: name = '/data/ips/galcen/1233542696/1233542696.hdf5', errno = 13, error message = 'Permission denied', flags = 0, o_flags = 0)\n",
      "Error procession ObsID 1233624552: [Errno 13] Unable to synchronously open file (unable to open file: name = '/data/ips/galcen/1233624552/1233624552.hdf5', errno = 13, error message = 'Permission denied', flags = 0, o_flags = 0)\n"
     ]
    },
    {
     "name": "stderr",
     "output_type": "stream",
     "text": [
      "20010it [41:03, 22.83it/s]"
     ]
    },
    {
     "name": "stdout",
     "output_type": "stream",
     "text": [
      "Error procession ObsID 1233367016: [Errno 13] Unable to synchronously open file (unable to open file: name = '/data/ips/galcen/1233367016/1233367016.hdf5', errno = 13, error message = 'Permission denied', flags = 0, o_flags = 0)\n",
      "Error procession ObsID 1233453896: [Errno 13] Unable to synchronously open file (unable to open file: name = '/data/ips/galcen/1233453896/1233453896.hdf5', errno = 13, error message = 'Permission denied', flags = 0, o_flags = 0)\n",
      "Error procession ObsID 1233538144: [Errno 13] Unable to synchronously open file (unable to open file: name = '/data/ips/galcen/1233538144/1233538144.hdf5', errno = 13, error message = 'Permission denied', flags = 0, o_flags = 0)\n",
      "Error procession ObsID 1233540304: [Errno 13] Unable to synchronously open file (unable to open file: name = '/data/ips/galcen/1233540304/1233540304.hdf5', errno = 13, error message = 'Permission denied', flags = 0, o_flags = 0)\n",
      "Error procession ObsID 1233624552: [Errno 13] Unable to synchronously open file (unable to open file: name = '/data/ips/galcen/1233624552/1233624552.hdf5', errno = 13, error message = 'Permission denied', flags = 0, o_flags = 0)\n",
      "Error procession ObsID 1233626704: [Errno 13] Unable to synchronously open file (unable to open file: name = '/data/ips/galcen/1233626704/1233626704.hdf5', errno = 13, error message = 'Permission denied', flags = 0, o_flags = 0)\n"
     ]
    },
    {
     "name": "stderr",
     "output_type": "stream",
     "text": [
      "20029it [41:04, 23.38it/s]"
     ]
    },
    {
     "name": "stdout",
     "output_type": "stream",
     "text": [
      "Error procession ObsID 1233367016: [Errno 13] Unable to synchronously open file (unable to open file: name = '/data/ips/galcen/1233367016/1233367016.hdf5', errno = 13, error message = 'Permission denied', flags = 0, o_flags = 0)\n",
      "Error procession ObsID 1233369888: [Errno 13] Unable to synchronously open file (unable to open file: name = '/data/ips/galcen/1233369888/1233369888.hdf5', errno = 13, error message = 'Permission denied', flags = 0, o_flags = 0)\n",
      "Error procession ObsID 1233538144: [Errno 13] Unable to synchronously open file (unable to open file: name = '/data/ips/galcen/1233538144/1233538144.hdf5', errno = 13, error message = 'Permission denied', flags = 0, o_flags = 0)\n",
      "Error procession ObsID 1233542696: [Errno 13] Unable to synchronously open file (unable to open file: name = '/data/ips/galcen/1233542696/1233542696.hdf5', errno = 13, error message = 'Permission denied', flags = 0, o_flags = 0)\n",
      "Error procession ObsID 1233624552: [Errno 13] Unable to synchronously open file (unable to open file: name = '/data/ips/galcen/1233624552/1233624552.hdf5', errno = 13, error message = 'Permission denied', flags = 0, o_flags = 0)\n"
     ]
    },
    {
     "name": "stderr",
     "output_type": "stream",
     "text": [
      "20039it [41:05, 11.42it/s]"
     ]
    },
    {
     "name": "stdout",
     "output_type": "stream",
     "text": [
      "Error procession ObsID 1233285392: [Errno 13] Unable to synchronously open file (unable to open file: name = '/data/ips/galcen/1233285392/1233285392.hdf5', errno = 13, error message = 'Permission denied', flags = 0, o_flags = 0)\n",
      "Error procession ObsID 1233369888: [Errno 13] Unable to synchronously open file (unable to open file: name = '/data/ips/galcen/1233369888/1233369888.hdf5', errno = 13, error message = 'Permission denied', flags = 0, o_flags = 0)\n",
      "Error procession ObsID 1233542696: [Errno 13] Unable to synchronously open file (unable to open file: name = '/data/ips/galcen/1233542696/1233542696.hdf5', errno = 13, error message = 'Permission denied', flags = 0, o_flags = 0)\n"
     ]
    },
    {
     "name": "stderr",
     "output_type": "stream",
     "text": [
      "20053it [41:06, 18.39it/s]"
     ]
    },
    {
     "name": "stdout",
     "output_type": "stream",
     "text": [
      "Error procession ObsID 1233367016: [Errno 13] Unable to synchronously open file (unable to open file: name = '/data/ips/galcen/1233367016/1233367016.hdf5', errno = 13, error message = 'Permission denied', flags = 0, o_flags = 0)\n",
      "Error procession ObsID 1233453896: [Errno 13] Unable to synchronously open file (unable to open file: name = '/data/ips/galcen/1233453896/1233453896.hdf5', errno = 13, error message = 'Permission denied', flags = 0, o_flags = 0)\n",
      "Error procession ObsID 1233538144: [Errno 13] Unable to synchronously open file (unable to open file: name = '/data/ips/galcen/1233538144/1233538144.hdf5', errno = 13, error message = 'Permission denied', flags = 0, o_flags = 0)\n",
      "Error procession ObsID 1233540304: [Errno 13] Unable to synchronously open file (unable to open file: name = '/data/ips/galcen/1233540304/1233540304.hdf5', errno = 13, error message = 'Permission denied', flags = 0, o_flags = 0)\n",
      "Error procession ObsID 1233624552: [Errno 13] Unable to synchronously open file (unable to open file: name = '/data/ips/galcen/1233624552/1233624552.hdf5', errno = 13, error message = 'Permission denied', flags = 0, o_flags = 0)\n",
      "Error procession ObsID 1233626704: [Errno 13] Unable to synchronously open file (unable to open file: name = '/data/ips/galcen/1233626704/1233626704.hdf5', errno = 13, error message = 'Permission denied', flags = 0, o_flags = 0)\n"
     ]
    },
    {
     "name": "stderr",
     "output_type": "stream",
     "text": [
      "20074it [41:07, 23.26it/s]"
     ]
    },
    {
     "name": "stdout",
     "output_type": "stream",
     "text": [
      "Error procession ObsID 1233367016: [Errno 13] Unable to synchronously open file (unable to open file: name = '/data/ips/galcen/1233367016/1233367016.hdf5', errno = 13, error message = 'Permission denied', flags = 0, o_flags = 0)\n",
      "Error procession ObsID 1233538144: [Errno 13] Unable to synchronously open file (unable to open file: name = '/data/ips/galcen/1233538144/1233538144.hdf5', errno = 13, error message = 'Permission denied', flags = 0, o_flags = 0)\n",
      "Error procession ObsID 1233540304: [Errno 13] Unable to synchronously open file (unable to open file: name = '/data/ips/galcen/1233540304/1233540304.hdf5', errno = 13, error message = 'Permission denied', flags = 0, o_flags = 0)\n",
      "Error procession ObsID 1233542696: [Errno 13] Unable to synchronously open file (unable to open file: name = '/data/ips/galcen/1233542696/1233542696.hdf5', errno = 13, error message = 'Permission denied', flags = 0, o_flags = 0)\n",
      "Error procession ObsID 1233624552: [Errno 13] Unable to synchronously open file (unable to open file: name = '/data/ips/galcen/1233624552/1233624552.hdf5', errno = 13, error message = 'Permission denied', flags = 0, o_flags = 0)\n",
      "Error procession ObsID 1233626704: [Errno 13] Unable to synchronously open file (unable to open file: name = '/data/ips/galcen/1233626704/1233626704.hdf5', errno = 13, error message = 'Permission denied', flags = 0, o_flags = 0)\n"
     ]
    },
    {
     "name": "stderr",
     "output_type": "stream",
     "text": [
      "20096it [41:08, 22.84it/s]"
     ]
    },
    {
     "name": "stdout",
     "output_type": "stream",
     "text": [
      "Error procession ObsID 1233285392: [Errno 13] Unable to synchronously open file (unable to open file: name = '/data/ips/galcen/1233285392/1233285392.hdf5', errno = 13, error message = 'Permission denied', flags = 0, o_flags = 0)\n",
      "Error procession ObsID 1233367016: [Errno 13] Unable to synchronously open file (unable to open file: name = '/data/ips/galcen/1233367016/1233367016.hdf5', errno = 13, error message = 'Permission denied', flags = 0, o_flags = 0)\n",
      "Error procession ObsID 1233369888: [Errno 13] Unable to synchronously open file (unable to open file: name = '/data/ips/galcen/1233369888/1233369888.hdf5', errno = 13, error message = 'Permission denied', flags = 0, o_flags = 0)\n",
      "Error procession ObsID 1233538144: [Errno 13] Unable to synchronously open file (unable to open file: name = '/data/ips/galcen/1233538144/1233538144.hdf5', errno = 13, error message = 'Permission denied', flags = 0, o_flags = 0)\n",
      "Error procession ObsID 1233542696: [Errno 13] Unable to synchronously open file (unable to open file: name = '/data/ips/galcen/1233542696/1233542696.hdf5', errno = 13, error message = 'Permission denied', flags = 0, o_flags = 0)\n",
      "Error procession ObsID 1233624552: [Errno 13] Unable to synchronously open file (unable to open file: name = '/data/ips/galcen/1233624552/1233624552.hdf5', errno = 13, error message = 'Permission denied', flags = 0, o_flags = 0)\n"
     ]
    },
    {
     "name": "stderr",
     "output_type": "stream",
     "text": [
      "20111it [41:09, 13.24it/s]"
     ]
    },
    {
     "name": "stdout",
     "output_type": "stream",
     "text": [
      "Error procession ObsID 1233626704: [Errno 13] Unable to synchronously open file (unable to open file: name = '/data/ips/galcen/1233626704/1233626704.hdf5', errno = 13, error message = 'Permission denied', flags = 0, o_flags = 0)\n"
     ]
    },
    {
     "name": "stderr",
     "output_type": "stream",
     "text": [
      "20119it [41:10, 15.19it/s]"
     ]
    },
    {
     "name": "stdout",
     "output_type": "stream",
     "text": [
      "Error procession ObsID 1233453896: [Errno 13] Unable to synchronously open file (unable to open file: name = '/data/ips/galcen/1233453896/1233453896.hdf5', errno = 13, error message = 'Permission denied', flags = 0, o_flags = 0)\n",
      "Error procession ObsID 1233540304: [Errno 13] Unable to synchronously open file (unable to open file: name = '/data/ips/galcen/1233540304/1233540304.hdf5', errno = 13, error message = 'Permission denied', flags = 0, o_flags = 0)\n",
      "Error procession ObsID 1233626704: [Errno 13] Unable to synchronously open file (unable to open file: name = '/data/ips/galcen/1233626704/1233626704.hdf5', errno = 13, error message = 'Permission denied', flags = 0, o_flags = 0)\n"
     ]
    },
    {
     "name": "stderr",
     "output_type": "stream",
     "text": [
      "20138it [41:11, 26.68it/s]"
     ]
    },
    {
     "name": "stdout",
     "output_type": "stream",
     "text": [
      "Error procession ObsID 1233285392: [Errno 13] Unable to synchronously open file (unable to open file: name = '/data/ips/galcen/1233285392/1233285392.hdf5', errno = 13, error message = 'Permission denied', flags = 0, o_flags = 0)\n",
      "Error procession ObsID 1233367016: [Errno 13] Unable to synchronously open file (unable to open file: name = '/data/ips/galcen/1233367016/1233367016.hdf5', errno = 13, error message = 'Permission denied', flags = 0, o_flags = 0)\n",
      "Error procession ObsID 1233453896: [Errno 13] Unable to synchronously open file (unable to open file: name = '/data/ips/galcen/1233453896/1233453896.hdf5', errno = 13, error message = 'Permission denied', flags = 0, o_flags = 0)\n",
      "Error procession ObsID 1233538144: [Errno 13] Unable to synchronously open file (unable to open file: name = '/data/ips/galcen/1233538144/1233538144.hdf5', errno = 13, error message = 'Permission denied', flags = 0, o_flags = 0)\n",
      "Error procession ObsID 1233540304: [Errno 13] Unable to synchronously open file (unable to open file: name = '/data/ips/galcen/1233540304/1233540304.hdf5', errno = 13, error message = 'Permission denied', flags = 0, o_flags = 0)\n",
      "Error procession ObsID 1233624552: [Errno 13] Unable to synchronously open file (unable to open file: name = '/data/ips/galcen/1233624552/1233624552.hdf5', errno = 13, error message = 'Permission denied', flags = 0, o_flags = 0)\n",
      "Error procession ObsID 1233626704: [Errno 13] Unable to synchronously open file (unable to open file: name = '/data/ips/galcen/1233626704/1233626704.hdf5', errno = 13, error message = 'Permission denied', flags = 0, o_flags = 0)\n"
     ]
    },
    {
     "name": "stderr",
     "output_type": "stream",
     "text": [
      "20152it [41:12, 12.71it/s]"
     ]
    },
    {
     "name": "stdout",
     "output_type": "stream",
     "text": [
      "Error procession ObsID 1233453896: [Errno 13] Unable to synchronously open file (unable to open file: name = '/data/ips/galcen/1233453896/1233453896.hdf5', errno = 13, error message = 'Permission denied', flags = 0, o_flags = 0)\n",
      "Error procession ObsID 1233538144: [Errno 13] Unable to synchronously open file (unable to open file: name = '/data/ips/galcen/1233538144/1233538144.hdf5', errno = 13, error message = 'Permission denied', flags = 0, o_flags = 0)\n",
      "Error procession ObsID 1233540304: [Errno 13] Unable to synchronously open file (unable to open file: name = '/data/ips/galcen/1233540304/1233540304.hdf5', errno = 13, error message = 'Permission denied', flags = 0, o_flags = 0)\n",
      "Error procession ObsID 1233624552: [Errno 13] Unable to synchronously open file (unable to open file: name = '/data/ips/galcen/1233624552/1233624552.hdf5', errno = 13, error message = 'Permission denied', flags = 0, o_flags = 0)\n",
      "Error procession ObsID 1233626704: [Errno 13] Unable to synchronously open file (unable to open file: name = '/data/ips/galcen/1233626704/1233626704.hdf5', errno = 13, error message = 'Permission denied', flags = 0, o_flags = 0)\n"
     ]
    },
    {
     "name": "stderr",
     "output_type": "stream",
     "text": [
      "20180it [41:14, 20.74it/s]"
     ]
    },
    {
     "name": "stdout",
     "output_type": "stream",
     "text": [
      "Error procession ObsID 1233367016: [Errno 13] Unable to synchronously open file (unable to open file: name = '/data/ips/galcen/1233367016/1233367016.hdf5', errno = 13, error message = 'Permission denied', flags = 0, o_flags = 0)\n",
      "Error procession ObsID 1233369888: [Errno 13] Unable to synchronously open file (unable to open file: name = '/data/ips/galcen/1233369888/1233369888.hdf5', errno = 13, error message = 'Permission denied', flags = 0, o_flags = 0)\n",
      "Error procession ObsID 1233538144: [Errno 13] Unable to synchronously open file (unable to open file: name = '/data/ips/galcen/1233538144/1233538144.hdf5', errno = 13, error message = 'Permission denied', flags = 0, o_flags = 0)\n",
      "Error procession ObsID 1233542696: [Errno 13] Unable to synchronously open file (unable to open file: name = '/data/ips/galcen/1233542696/1233542696.hdf5', errno = 13, error message = 'Permission denied', flags = 0, o_flags = 0)\n",
      "Error procession ObsID 1233624552: [Errno 13] Unable to synchronously open file (unable to open file: name = '/data/ips/galcen/1233624552/1233624552.hdf5', errno = 13, error message = 'Permission denied', flags = 0, o_flags = 0)\n"
     ]
    },
    {
     "name": "stderr",
     "output_type": "stream",
     "text": [
      "20200it [41:15, 18.94it/s]"
     ]
    },
    {
     "name": "stdout",
     "output_type": "stream",
     "text": [
      "Error procession ObsID 1233453896: [Errno 13] Unable to synchronously open file (unable to open file: name = '/data/ips/galcen/1233453896/1233453896.hdf5', errno = 13, error message = 'Permission denied', flags = 0, o_flags = 0)\n",
      "Error procession ObsID 1233538144: [Errno 13] Unable to synchronously open file (unable to open file: name = '/data/ips/galcen/1233538144/1233538144.hdf5', errno = 13, error message = 'Permission denied', flags = 0, o_flags = 0)\n",
      "Error procession ObsID 1233540304: [Errno 13] Unable to synchronously open file (unable to open file: name = '/data/ips/galcen/1233540304/1233540304.hdf5', errno = 13, error message = 'Permission denied', flags = 0, o_flags = 0)\n",
      "Error procession ObsID 1233624552: [Errno 13] Unable to synchronously open file (unable to open file: name = '/data/ips/galcen/1233624552/1233624552.hdf5', errno = 13, error message = 'Permission denied', flags = 0, o_flags = 0)\n",
      "Error procession ObsID 1233626704: [Errno 13] Unable to synchronously open file (unable to open file: name = '/data/ips/galcen/1233626704/1233626704.hdf5', errno = 13, error message = 'Permission denied', flags = 0, o_flags = 0)\n"
     ]
    },
    {
     "name": "stderr",
     "output_type": "stream",
     "text": [
      "20216it [41:16, 15.93it/s]"
     ]
    },
    {
     "name": "stdout",
     "output_type": "stream",
     "text": [
      "Error procession ObsID 1233538144: [Errno 13] Unable to synchronously open file (unable to open file: name = '/data/ips/galcen/1233538144/1233538144.hdf5', errno = 13, error message = 'Permission denied', flags = 0, o_flags = 0)\n",
      "Error procession ObsID 1233540304: [Errno 13] Unable to synchronously open file (unable to open file: name = '/data/ips/galcen/1233540304/1233540304.hdf5', errno = 13, error message = 'Permission denied', flags = 0, o_flags = 0)\n",
      "Error procession ObsID 1233624552: [Errno 13] Unable to synchronously open file (unable to open file: name = '/data/ips/galcen/1233624552/1233624552.hdf5', errno = 13, error message = 'Permission denied', flags = 0, o_flags = 0)\n",
      "Error procession ObsID 1233626704: [Errno 13] Unable to synchronously open file (unable to open file: name = '/data/ips/galcen/1233626704/1233626704.hdf5', errno = 13, error message = 'Permission denied', flags = 0, o_flags = 0)\n"
     ]
    },
    {
     "name": "stderr",
     "output_type": "stream",
     "text": [
      "20243it [41:18, 18.42it/s]"
     ]
    },
    {
     "name": "stdout",
     "output_type": "stream",
     "text": [
      "Error procession ObsID 1233538144: [Errno 13] Unable to synchronously open file (unable to open file: name = '/data/ips/galcen/1233538144/1233538144.hdf5', errno = 13, error message = 'Permission denied', flags = 0, o_flags = 0)\n",
      "Error procession ObsID 1233540304: [Errno 13] Unable to synchronously open file (unable to open file: name = '/data/ips/galcen/1233540304/1233540304.hdf5', errno = 13, error message = 'Permission denied', flags = 0, o_flags = 0)\n",
      "Error procession ObsID 1233624552: [Errno 13] Unable to synchronously open file (unable to open file: name = '/data/ips/galcen/1233624552/1233624552.hdf5', errno = 13, error message = 'Permission denied', flags = 0, o_flags = 0)\n",
      "Error procession ObsID 1233626704: [Errno 13] Unable to synchronously open file (unable to open file: name = '/data/ips/galcen/1233626704/1233626704.hdf5', errno = 13, error message = 'Permission denied', flags = 0, o_flags = 0)\n"
     ]
    },
    {
     "name": "stderr",
     "output_type": "stream",
     "text": [
      "20262it [41:19, 18.34it/s]"
     ]
    },
    {
     "name": "stdout",
     "output_type": "stream",
     "text": [
      "Error procession ObsID 1233626704: [Errno 13] Unable to synchronously open file (unable to open file: name = '/data/ips/galcen/1233626704/1233626704.hdf5', errno = 13, error message = 'Permission denied', flags = 0, o_flags = 0)\n"
     ]
    },
    {
     "name": "stderr",
     "output_type": "stream",
     "text": [
      "20272it [41:20, 13.98it/s]"
     ]
    },
    {
     "name": "stdout",
     "output_type": "stream",
     "text": [
      "Error procession ObsID 1233538144: [Errno 13] Unable to synchronously open file (unable to open file: name = '/data/ips/galcen/1233538144/1233538144.hdf5', errno = 13, error message = 'Permission denied', flags = 0, o_flags = 0)\n",
      "Error procession ObsID 1233624552: [Errno 13] Unable to synchronously open file (unable to open file: name = '/data/ips/galcen/1233624552/1233624552.hdf5', errno = 13, error message = 'Permission denied', flags = 0, o_flags = 0)\n"
     ]
    },
    {
     "name": "stderr",
     "output_type": "stream",
     "text": [
      "20291it [41:22,  8.41it/s]"
     ]
    },
    {
     "name": "stdout",
     "output_type": "stream",
     "text": [
      "Error procession ObsID 1233285392: [Errno 13] Unable to synchronously open file (unable to open file: name = '/data/ips/galcen/1233285392/1233285392.hdf5', errno = 13, error message = 'Permission denied', flags = 0, o_flags = 0)\n"
     ]
    },
    {
     "name": "stderr",
     "output_type": "stream",
     "text": [
      "20352it [41:28, 16.96it/s]"
     ]
    },
    {
     "name": "stdout",
     "output_type": "stream",
     "text": [
      "Error procession ObsID 1233369888: [Errno 13] Unable to synchronously open file (unable to open file: name = '/data/ips/galcen/1233369888/1233369888.hdf5', errno = 13, error message = 'Permission denied', flags = 0, o_flags = 0)\n",
      "Error procession ObsID 1233542696: [Errno 13] Unable to synchronously open file (unable to open file: name = '/data/ips/galcen/1233542696/1233542696.hdf5', errno = 13, error message = 'Permission denied', flags = 0, o_flags = 0)\n"
     ]
    },
    {
     "name": "stderr",
     "output_type": "stream",
     "text": [
      "20477it [41:37, 19.00it/s]"
     ]
    },
    {
     "name": "stdout",
     "output_type": "stream",
     "text": [
      "Error procession ObsID 1233542696: [Errno 13] Unable to synchronously open file (unable to open file: name = '/data/ips/galcen/1233542696/1233542696.hdf5', errno = 13, error message = 'Permission denied', flags = 0, o_flags = 0)\n"
     ]
    },
    {
     "name": "stderr",
     "output_type": "stream",
     "text": [
      "21346it [42:52, 12.67it/s]"
     ]
    },
    {
     "name": "stdout",
     "output_type": "stream",
     "text": [
      "Error procession ObsID 1238114824: could not broadcast input array from shape (1107,) into shape (1152,)\n"
     ]
    },
    {
     "name": "stderr",
     "output_type": "stream",
     "text": [
      "21386it [42:56, 11.45it/s]"
     ]
    },
    {
     "name": "stdout",
     "output_type": "stream",
     "text": [
      "Error procession ObsID 1238114824: could not broadcast input array from shape (1107,) into shape (1152,)\n"
     ]
    },
    {
     "name": "stderr",
     "output_type": "stream",
     "text": [
      "21467it [43:03, 14.06it/s]"
     ]
    },
    {
     "name": "stdout",
     "output_type": "stream",
     "text": [
      "Error procession ObsID 1238114824: could not broadcast input array from shape (1107,) into shape (1152,)\n"
     ]
    },
    {
     "name": "stderr",
     "output_type": "stream",
     "text": [
      "21552it [43:12, 14.43it/s]"
     ]
    },
    {
     "name": "stdout",
     "output_type": "stream",
     "text": [
      "Error procession ObsID 1238114824: could not broadcast input array from shape (1107,) into shape (1152,)\n"
     ]
    },
    {
     "name": "stderr",
     "output_type": "stream",
     "text": [
      "21574it [43:13, 16.41it/s]"
     ]
    },
    {
     "name": "stdout",
     "output_type": "stream",
     "text": [
      "Error procession ObsID 1238114824: could not broadcast input array from shape (1107,) into shape (1152,)\n"
     ]
    },
    {
     "name": "stderr",
     "output_type": "stream",
     "text": [
      "21606it [43:16, 14.38it/s]"
     ]
    },
    {
     "name": "stdout",
     "output_type": "stream",
     "text": [
      "Error procession ObsID 1238114824: could not broadcast input array from shape (1107,) into shape (1152,)\n"
     ]
    },
    {
     "name": "stderr",
     "output_type": "stream",
     "text": [
      "21654it [43:17, 34.77it/s]"
     ]
    },
    {
     "name": "stdout",
     "output_type": "stream",
     "text": [
      "Error procession ObsID 1238114824: could not broadcast input array from shape (1107,) into shape (1152,)\n"
     ]
    },
    {
     "name": "stderr",
     "output_type": "stream",
     "text": [
      "21664it [43:18, 48.56it/s]"
     ]
    },
    {
     "name": "stdout",
     "output_type": "stream",
     "text": [
      "Error procession ObsID 1238114824: could not broadcast input array from shape (1107,) into shape (1152,)\n"
     ]
    },
    {
     "name": "stderr",
     "output_type": "stream",
     "text": [
      "21708it [43:21, 11.49it/s]"
     ]
    },
    {
     "name": "stdout",
     "output_type": "stream",
     "text": [
      "Error procession ObsID 1238114824: could not broadcast input array from shape (1107,) into shape (1152,)\n"
     ]
    },
    {
     "name": "stderr",
     "output_type": "stream",
     "text": [
      "21748it [43:24,  8.93it/s]"
     ]
    },
    {
     "name": "stdout",
     "output_type": "stream",
     "text": [
      "Error procession ObsID 1238114824: could not broadcast input array from shape (1107,) into shape (1152,)\n"
     ]
    },
    {
     "name": "stderr",
     "output_type": "stream",
     "text": [
      "21769it [43:27,  7.85it/s]"
     ]
    },
    {
     "name": "stdout",
     "output_type": "stream",
     "text": [
      "Error procession ObsID 1238114824: could not broadcast input array from shape (1107,) into shape (1152,)\n"
     ]
    },
    {
     "name": "stderr",
     "output_type": "stream",
     "text": [
      "21834it [43:32, 32.58it/s]"
     ]
    },
    {
     "name": "stdout",
     "output_type": "stream",
     "text": [
      "Error procession ObsID 1238114824: could not broadcast input array from shape (1107,) into shape (1152,)\n"
     ]
    },
    {
     "name": "stderr",
     "output_type": "stream",
     "text": [
      "21876it [43:35, 13.00it/s]"
     ]
    },
    {
     "name": "stdout",
     "output_type": "stream",
     "text": [
      "Error procession ObsID 1238114824: could not broadcast input array from shape (1107,) into shape (1152,)\n"
     ]
    },
    {
     "name": "stderr",
     "output_type": "stream",
     "text": [
      "21900it [43:36, 45.71it/s]"
     ]
    },
    {
     "name": "stdout",
     "output_type": "stream",
     "text": [
      "Error procession ObsID 1238114824: could not broadcast input array from shape (1107,) into shape (1152,)\n"
     ]
    },
    {
     "name": "stderr",
     "output_type": "stream",
     "text": [
      "21920it [43:37, 28.15it/s]"
     ]
    },
    {
     "name": "stdout",
     "output_type": "stream",
     "text": [
      "Error procession ObsID 1238114824: could not broadcast input array from shape (1107,) into shape (1152,)\n"
     ]
    },
    {
     "name": "stderr",
     "output_type": "stream",
     "text": [
      "21982it [43:43, 14.11it/s]"
     ]
    },
    {
     "name": "stdout",
     "output_type": "stream",
     "text": [
      "Error procession ObsID 1238114824: could not broadcast input array from shape (1107,) into shape (1152,)\n"
     ]
    },
    {
     "name": "stderr",
     "output_type": "stream",
     "text": [
      "22004it [43:45,  9.23it/s]"
     ]
    },
    {
     "name": "stdout",
     "output_type": "stream",
     "text": [
      "Error procession ObsID 1238114824: could not broadcast input array from shape (1107,) into shape (1152,)\n"
     ]
    },
    {
     "name": "stderr",
     "output_type": "stream",
     "text": [
      "22028it [43:47, 19.44it/s]"
     ]
    },
    {
     "name": "stdout",
     "output_type": "stream",
     "text": [
      "Error procession ObsID 1238114824: could not broadcast input array from shape (1107,) into shape (1152,)\n"
     ]
    },
    {
     "name": "stderr",
     "output_type": "stream",
     "text": [
      "22051it [43:48, 23.63it/s]"
     ]
    },
    {
     "name": "stdout",
     "output_type": "stream",
     "text": [
      "Error procession ObsID 1238114824: could not broadcast input array from shape (1107,) into shape (1152,)\n"
     ]
    },
    {
     "name": "stderr",
     "output_type": "stream",
     "text": [
      "22073it [43:49, 18.63it/s]"
     ]
    },
    {
     "name": "stdout",
     "output_type": "stream",
     "text": [
      "Error procession ObsID 1238114824: could not broadcast input array from shape (1107,) into shape (1152,)\n"
     ]
    },
    {
     "name": "stderr",
     "output_type": "stream",
     "text": [
      "22101it [43:52, 15.94it/s]"
     ]
    },
    {
     "name": "stdout",
     "output_type": "stream",
     "text": [
      "Error procession ObsID 1238114824: could not broadcast input array from shape (1107,) into shape (1152,)\n"
     ]
    },
    {
     "name": "stderr",
     "output_type": "stream",
     "text": [
      "22120it [43:53, 13.64it/s]"
     ]
    },
    {
     "name": "stdout",
     "output_type": "stream",
     "text": [
      "Error procession ObsID 1238114824: could not broadcast input array from shape (1107,) into shape (1152,)\n"
     ]
    },
    {
     "name": "stderr",
     "output_type": "stream",
     "text": [
      "22142it [43:54, 12.51it/s]"
     ]
    },
    {
     "name": "stdout",
     "output_type": "stream",
     "text": [
      "Error procession ObsID 1238114824: could not broadcast input array from shape (1107,) into shape (1152,)\n"
     ]
    },
    {
     "name": "stderr",
     "output_type": "stream",
     "text": [
      "22170it [43:56, 15.93it/s]"
     ]
    },
    {
     "name": "stdout",
     "output_type": "stream",
     "text": [
      "Error procession ObsID 1238114824: could not broadcast input array from shape (1107,) into shape (1152,)\n"
     ]
    },
    {
     "name": "stderr",
     "output_type": "stream",
     "text": [
      "22190it [43:58, 11.83it/s]"
     ]
    },
    {
     "name": "stdout",
     "output_type": "stream",
     "text": [
      "Error procession ObsID 1238114824: could not broadcast input array from shape (1107,) into shape (1152,)\n"
     ]
    },
    {
     "name": "stderr",
     "output_type": "stream",
     "text": [
      "22263it [44:05,  8.27it/s]"
     ]
    },
    {
     "name": "stdout",
     "output_type": "stream",
     "text": [
      "Error procession ObsID 1238114824: could not broadcast input array from shape (1107,) into shape (1152,)\n"
     ]
    },
    {
     "name": "stderr",
     "output_type": "stream",
     "text": [
      "22313it [44:07, 27.42it/s]"
     ]
    },
    {
     "name": "stdout",
     "output_type": "stream",
     "text": [
      "Error procession ObsID 1238114824: could not broadcast input array from shape (1107,) into shape (1152,)\n"
     ]
    },
    {
     "name": "stderr",
     "output_type": "stream",
     "text": [
      "22370it [44:12, 12.25it/s]"
     ]
    },
    {
     "name": "stdout",
     "output_type": "stream",
     "text": [
      "Error procession ObsID 1238114824: could not broadcast input array from shape (1107,) into shape (1152,)\n"
     ]
    },
    {
     "name": "stderr",
     "output_type": "stream",
     "text": [
      "22390it [44:13, 15.36it/s]"
     ]
    },
    {
     "name": "stdout",
     "output_type": "stream",
     "text": [
      "Error procession ObsID 1238114824: could not broadcast input array from shape (1107,) into shape (1152,)\n"
     ]
    },
    {
     "name": "stderr",
     "output_type": "stream",
     "text": [
      "22573it [44:30,  8.45it/s]\n"
     ]
    }
   ],
   "source": [
    "N=len(table)\n",
    "M=1152\n",
    "\n",
    "on_source = np.zeros((N, M))\n",
    "off_source = np.zeros((N, M))\n",
    "is_valid = np.zeros((N,), dtype=(bool))\n",
    "\n",
    "for i, row in tqdm(enumerate(table)):\n",
    "    try:\n",
    "        obsid = row['obsid']\n",
    "        #Drill image cube for 600mS of data per observation\n",
    "        source_path = os.path.join(row['dir'], str(row['obsid'])+\".hdf5\")\n",
    "        source_imstack = ImageStack(source_path, freq=\"121-132\")\n",
    "        on_source[i] = find_ts(row, source_imstack)\n",
    "        off_source[i] = find_offsource_ts(row, source_imstack)\n",
    "        is_valid[i] = True\n",
    "\n",
    "    except Exception as error:\n",
    "        print(f'Error procession ObsID {obsid}: {error}')\n",
    "        is_valid[i] = False\n",
    "        continue\n",
    "    \n",
    "\n",
    "with h5py.File(\"timeseries_full.hdf5\", \"w\") as f:\n",
    "    h5_on_source = f.create_dataset(\"on_source\", (N, M), chunks=(1, M), dtype=np.float16, compression='lzf', shuffle=True)\n",
    "    h5_off_source = f.create_dataset(\"off_source\", (N, M), chunks=(1, M), dtype=np.float16, compression='lzf', shuffle=True)\n",
    "    h5_isvalid = f.create_dataset(\"is_valid\", (N,), dtype=(bool))\n",
    "    h5_on_source[...] = on_source\n",
    "    h5_off_source[...] = off_source"
   ]
  },
  {
   "cell_type": "markdown",
   "metadata": {},
   "source": []
  },
  {
   "cell_type": "code",
   "execution_count": null,
   "metadata": {},
   "outputs": [],
   "source": []
  }
 ],
 "metadata": {
  "kernelspec": {
   "display_name": "Python 3",
   "language": "python",
   "name": "python3"
  },
  "language_info": {
   "codemirror_mode": {
    "name": "ipython",
    "version": 3
   },
   "file_extension": ".py",
   "mimetype": "text/x-python",
   "name": "python",
   "nbconvert_exporter": "python",
   "pygments_lexer": "ipython3",
   "version": "3.13.0"
  }
 },
 "nbformat": 4,
 "nbformat_minor": 2
}
